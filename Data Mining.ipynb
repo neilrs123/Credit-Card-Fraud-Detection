{
 "cells": [
  {
   "cell_type": "markdown",
   "metadata": {},
   "source": [
    "# IME672 PROJECT: CREDIT CARD FRAUD DETECTION\n"
   ]
  },
  {
   "cell_type": "markdown",
   "metadata": {},
   "source": [
    "**Group 12:**"
   ]
  },
  {
   "cell_type": "markdown",
   "metadata": {},
   "source": [
    "170368 MAHAJAN DIPAK ANIL \n",
    "\n",
    "170384 MAYUR KUMAR\n",
    "\n",
    "170405 MUKESH KUMAR\n",
    "\n",
    "170429 NEIL RAJIV SHIRUDE\n",
    "\n",
    "170440 NIMISH AGARWAL\n",
    "\n",
    "\n",
    "\n",
    "**Data Preproessing:**\n",
    "\n",
    "**Data Visualization, extreme outliers,** \n",
    "\n",
    "**correlation analysis, robust scaling, stratified sampling,**\n",
    "\n",
    "**dimensionality and numerosity reduction** \n",
    "\n"
   ]
  },
  {
   "cell_type": "code",
   "execution_count": 1,
   "metadata": {},
   "outputs": [],
   "source": [
    "#Libraries\n",
    "import numpy as np\n",
    "import pandas as pd \n",
    "import seaborn as sns\n",
    "import matplotlib.pyplot as plt\n",
    "import matplotlib.gridspec as gridspec # to do the grid of plots"
   ]
  },
  {
   "cell_type": "code",
   "execution_count": 2,
   "metadata": {},
   "outputs": [],
   "source": [
    "# reading data from csv file\n",
    "df = pd.read_csv('creditcard.csv')"
   ]
  },
  {
   "cell_type": "code",
   "execution_count": 3,
   "metadata": {},
   "outputs": [
    {
     "data": {
      "text/plain": [
       "(284807, 31)"
      ]
     },
     "execution_count": 3,
     "metadata": {},
     "output_type": "execute_result"
    }
   ],
   "source": [
    "df.shape"
   ]
  },
  {
   "cell_type": "code",
   "execution_count": 4,
   "metadata": {},
   "outputs": [],
   "source": [
    "df = df[df.Amount < 10000]"
   ]
  },
  {
   "cell_type": "code",
   "execution_count": 5,
   "metadata": {},
   "outputs": [
    {
     "name": "stdout",
     "output_type": "stream",
     "text": [
      "Scaled Data\n",
      "\n"
     ]
    },
    {
     "data": {
      "text/html": [
       "<div>\n",
       "<style scoped>\n",
       "    .dataframe tbody tr th:only-of-type {\n",
       "        vertical-align: middle;\n",
       "    }\n",
       "\n",
       "    .dataframe tbody tr th {\n",
       "        vertical-align: top;\n",
       "    }\n",
       "\n",
       "    .dataframe thead th {\n",
       "        text-align: right;\n",
       "    }\n",
       "</style>\n",
       "<table border=\"1\" class=\"dataframe\">\n",
       "  <thead>\n",
       "    <tr style=\"text-align: right;\">\n",
       "      <th></th>\n",
       "      <th>scaled_time</th>\n",
       "      <th>scaled_amount</th>\n",
       "      <th>V1</th>\n",
       "      <th>V2</th>\n",
       "      <th>V3</th>\n",
       "      <th>V4</th>\n",
       "      <th>V5</th>\n",
       "      <th>V6</th>\n",
       "      <th>V7</th>\n",
       "      <th>V8</th>\n",
       "      <th>...</th>\n",
       "      <th>V20</th>\n",
       "      <th>V21</th>\n",
       "      <th>V22</th>\n",
       "      <th>V23</th>\n",
       "      <th>V24</th>\n",
       "      <th>V25</th>\n",
       "      <th>V26</th>\n",
       "      <th>V27</th>\n",
       "      <th>V28</th>\n",
       "      <th>Class</th>\n",
       "    </tr>\n",
       "  </thead>\n",
       "  <tbody>\n",
       "    <tr>\n",
       "      <th>0</th>\n",
       "      <td>-0.994989</td>\n",
       "      <td>1.783399</td>\n",
       "      <td>-1.359807</td>\n",
       "      <td>-0.072781</td>\n",
       "      <td>2.536347</td>\n",
       "      <td>1.378155</td>\n",
       "      <td>-0.338321</td>\n",
       "      <td>0.462388</td>\n",
       "      <td>0.239599</td>\n",
       "      <td>0.098698</td>\n",
       "      <td>...</td>\n",
       "      <td>0.251412</td>\n",
       "      <td>-0.018307</td>\n",
       "      <td>0.277838</td>\n",
       "      <td>-0.110474</td>\n",
       "      <td>0.066928</td>\n",
       "      <td>0.128539</td>\n",
       "      <td>-0.189115</td>\n",
       "      <td>0.133558</td>\n",
       "      <td>-0.021053</td>\n",
       "      <td>0</td>\n",
       "    </tr>\n",
       "    <tr>\n",
       "      <th>1</th>\n",
       "      <td>-0.994989</td>\n",
       "      <td>-0.269843</td>\n",
       "      <td>1.191857</td>\n",
       "      <td>0.266151</td>\n",
       "      <td>0.166480</td>\n",
       "      <td>0.448154</td>\n",
       "      <td>0.060018</td>\n",
       "      <td>-0.082361</td>\n",
       "      <td>-0.078803</td>\n",
       "      <td>0.085102</td>\n",
       "      <td>...</td>\n",
       "      <td>-0.069083</td>\n",
       "      <td>-0.225775</td>\n",
       "      <td>-0.638672</td>\n",
       "      <td>0.101288</td>\n",
       "      <td>-0.339846</td>\n",
       "      <td>0.167170</td>\n",
       "      <td>0.125895</td>\n",
       "      <td>-0.008983</td>\n",
       "      <td>0.014724</td>\n",
       "      <td>0</td>\n",
       "    </tr>\n",
       "    <tr>\n",
       "      <th>2</th>\n",
       "      <td>-0.994978</td>\n",
       "      <td>4.984069</td>\n",
       "      <td>-1.358354</td>\n",
       "      <td>-1.340163</td>\n",
       "      <td>1.773209</td>\n",
       "      <td>0.379780</td>\n",
       "      <td>-0.503198</td>\n",
       "      <td>1.800499</td>\n",
       "      <td>0.791461</td>\n",
       "      <td>0.247676</td>\n",
       "      <td>...</td>\n",
       "      <td>0.524980</td>\n",
       "      <td>0.247998</td>\n",
       "      <td>0.771679</td>\n",
       "      <td>0.909412</td>\n",
       "      <td>-0.689281</td>\n",
       "      <td>-0.327642</td>\n",
       "      <td>-0.139097</td>\n",
       "      <td>-0.055353</td>\n",
       "      <td>-0.059752</td>\n",
       "      <td>0</td>\n",
       "    </tr>\n",
       "    <tr>\n",
       "      <th>3</th>\n",
       "      <td>-0.994978</td>\n",
       "      <td>1.418390</td>\n",
       "      <td>-0.966272</td>\n",
       "      <td>-0.185226</td>\n",
       "      <td>1.792993</td>\n",
       "      <td>-0.863291</td>\n",
       "      <td>-0.010309</td>\n",
       "      <td>1.247203</td>\n",
       "      <td>0.237609</td>\n",
       "      <td>0.377436</td>\n",
       "      <td>...</td>\n",
       "      <td>-0.208038</td>\n",
       "      <td>-0.108300</td>\n",
       "      <td>0.005274</td>\n",
       "      <td>-0.190321</td>\n",
       "      <td>-1.175575</td>\n",
       "      <td>0.647376</td>\n",
       "      <td>-0.221929</td>\n",
       "      <td>0.062723</td>\n",
       "      <td>0.061458</td>\n",
       "      <td>0</td>\n",
       "    </tr>\n",
       "    <tr>\n",
       "      <th>4</th>\n",
       "      <td>-0.994966</td>\n",
       "      <td>0.670626</td>\n",
       "      <td>-1.158233</td>\n",
       "      <td>0.877737</td>\n",
       "      <td>1.548718</td>\n",
       "      <td>0.403034</td>\n",
       "      <td>-0.407193</td>\n",
       "      <td>0.095921</td>\n",
       "      <td>0.592941</td>\n",
       "      <td>-0.270533</td>\n",
       "      <td>...</td>\n",
       "      <td>0.408542</td>\n",
       "      <td>-0.009431</td>\n",
       "      <td>0.798278</td>\n",
       "      <td>-0.137458</td>\n",
       "      <td>0.141267</td>\n",
       "      <td>-0.206010</td>\n",
       "      <td>0.502292</td>\n",
       "      <td>0.219422</td>\n",
       "      <td>0.215153</td>\n",
       "      <td>0</td>\n",
       "    </tr>\n",
       "    <tr>\n",
       "      <th>5</th>\n",
       "      <td>-0.994966</td>\n",
       "      <td>-0.256149</td>\n",
       "      <td>-0.425966</td>\n",
       "      <td>0.960523</td>\n",
       "      <td>1.141109</td>\n",
       "      <td>-0.168252</td>\n",
       "      <td>0.420987</td>\n",
       "      <td>-0.029728</td>\n",
       "      <td>0.476201</td>\n",
       "      <td>0.260314</td>\n",
       "      <td>...</td>\n",
       "      <td>0.084968</td>\n",
       "      <td>-0.208254</td>\n",
       "      <td>-0.559825</td>\n",
       "      <td>-0.026398</td>\n",
       "      <td>-0.371427</td>\n",
       "      <td>-0.232794</td>\n",
       "      <td>0.105915</td>\n",
       "      <td>0.253844</td>\n",
       "      <td>0.081080</td>\n",
       "      <td>0</td>\n",
       "    </tr>\n",
       "    <tr>\n",
       "      <th>6</th>\n",
       "      <td>-0.994942</td>\n",
       "      <td>-0.237703</td>\n",
       "      <td>1.229658</td>\n",
       "      <td>0.141004</td>\n",
       "      <td>0.045371</td>\n",
       "      <td>1.202613</td>\n",
       "      <td>0.191881</td>\n",
       "      <td>0.272708</td>\n",
       "      <td>-0.005159</td>\n",
       "      <td>0.081213</td>\n",
       "      <td>...</td>\n",
       "      <td>-0.219633</td>\n",
       "      <td>-0.167716</td>\n",
       "      <td>-0.270710</td>\n",
       "      <td>-0.154104</td>\n",
       "      <td>-0.780055</td>\n",
       "      <td>0.750137</td>\n",
       "      <td>-0.257237</td>\n",
       "      <td>0.034507</td>\n",
       "      <td>0.005168</td>\n",
       "      <td>0</td>\n",
       "    </tr>\n",
       "    <tr>\n",
       "      <th>7</th>\n",
       "      <td>-0.994907</td>\n",
       "      <td>0.262717</td>\n",
       "      <td>-0.644269</td>\n",
       "      <td>1.417964</td>\n",
       "      <td>1.074380</td>\n",
       "      <td>-0.492199</td>\n",
       "      <td>0.948934</td>\n",
       "      <td>0.428118</td>\n",
       "      <td>1.120631</td>\n",
       "      <td>-3.807864</td>\n",
       "      <td>...</td>\n",
       "      <td>-0.156742</td>\n",
       "      <td>1.943465</td>\n",
       "      <td>-1.015455</td>\n",
       "      <td>0.057504</td>\n",
       "      <td>-0.649709</td>\n",
       "      <td>-0.415267</td>\n",
       "      <td>-0.051634</td>\n",
       "      <td>-1.206921</td>\n",
       "      <td>-1.085339</td>\n",
       "      <td>0</td>\n",
       "    </tr>\n",
       "    <tr>\n",
       "      <th>8</th>\n",
       "      <td>-0.994907</td>\n",
       "      <td>0.994969</td>\n",
       "      <td>-0.894286</td>\n",
       "      <td>0.286157</td>\n",
       "      <td>-0.113192</td>\n",
       "      <td>-0.271526</td>\n",
       "      <td>2.669599</td>\n",
       "      <td>3.721818</td>\n",
       "      <td>0.370145</td>\n",
       "      <td>0.851084</td>\n",
       "      <td>...</td>\n",
       "      <td>0.052736</td>\n",
       "      <td>-0.073425</td>\n",
       "      <td>-0.268092</td>\n",
       "      <td>-0.204233</td>\n",
       "      <td>1.011592</td>\n",
       "      <td>0.373205</td>\n",
       "      <td>-0.384157</td>\n",
       "      <td>0.011747</td>\n",
       "      <td>0.142404</td>\n",
       "      <td>0</td>\n",
       "    </tr>\n",
       "    <tr>\n",
       "      <th>9</th>\n",
       "      <td>-0.994884</td>\n",
       "      <td>-0.256009</td>\n",
       "      <td>-0.338262</td>\n",
       "      <td>1.119593</td>\n",
       "      <td>1.044367</td>\n",
       "      <td>-0.222187</td>\n",
       "      <td>0.499361</td>\n",
       "      <td>-0.246761</td>\n",
       "      <td>0.651583</td>\n",
       "      <td>0.069539</td>\n",
       "      <td>...</td>\n",
       "      <td>0.203711</td>\n",
       "      <td>-0.246914</td>\n",
       "      <td>-0.633753</td>\n",
       "      <td>-0.120794</td>\n",
       "      <td>-0.385050</td>\n",
       "      <td>-0.069733</td>\n",
       "      <td>0.094199</td>\n",
       "      <td>0.246219</td>\n",
       "      <td>0.083076</td>\n",
       "      <td>0</td>\n",
       "    </tr>\n",
       "  </tbody>\n",
       "</table>\n",
       "<p>10 rows × 31 columns</p>\n",
       "</div>"
      ],
      "text/plain": [
       "   scaled_time  scaled_amount        V1        V2        V3        V4  \\\n",
       "0    -0.994989       1.783399 -1.359807 -0.072781  2.536347  1.378155   \n",
       "1    -0.994989      -0.269843  1.191857  0.266151  0.166480  0.448154   \n",
       "2    -0.994978       4.984069 -1.358354 -1.340163  1.773209  0.379780   \n",
       "3    -0.994978       1.418390 -0.966272 -0.185226  1.792993 -0.863291   \n",
       "4    -0.994966       0.670626 -1.158233  0.877737  1.548718  0.403034   \n",
       "5    -0.994966      -0.256149 -0.425966  0.960523  1.141109 -0.168252   \n",
       "6    -0.994942      -0.237703  1.229658  0.141004  0.045371  1.202613   \n",
       "7    -0.994907       0.262717 -0.644269  1.417964  1.074380 -0.492199   \n",
       "8    -0.994907       0.994969 -0.894286  0.286157 -0.113192 -0.271526   \n",
       "9    -0.994884      -0.256009 -0.338262  1.119593  1.044367 -0.222187   \n",
       "\n",
       "         V5        V6        V7        V8  ...         V20       V21  \\\n",
       "0 -0.338321  0.462388  0.239599  0.098698  ...    0.251412 -0.018307   \n",
       "1  0.060018 -0.082361 -0.078803  0.085102  ...   -0.069083 -0.225775   \n",
       "2 -0.503198  1.800499  0.791461  0.247676  ...    0.524980  0.247998   \n",
       "3 -0.010309  1.247203  0.237609  0.377436  ...   -0.208038 -0.108300   \n",
       "4 -0.407193  0.095921  0.592941 -0.270533  ...    0.408542 -0.009431   \n",
       "5  0.420987 -0.029728  0.476201  0.260314  ...    0.084968 -0.208254   \n",
       "6  0.191881  0.272708 -0.005159  0.081213  ...   -0.219633 -0.167716   \n",
       "7  0.948934  0.428118  1.120631 -3.807864  ...   -0.156742  1.943465   \n",
       "8  2.669599  3.721818  0.370145  0.851084  ...    0.052736 -0.073425   \n",
       "9  0.499361 -0.246761  0.651583  0.069539  ...    0.203711 -0.246914   \n",
       "\n",
       "        V22       V23       V24       V25       V26       V27       V28  Class  \n",
       "0  0.277838 -0.110474  0.066928  0.128539 -0.189115  0.133558 -0.021053      0  \n",
       "1 -0.638672  0.101288 -0.339846  0.167170  0.125895 -0.008983  0.014724      0  \n",
       "2  0.771679  0.909412 -0.689281 -0.327642 -0.139097 -0.055353 -0.059752      0  \n",
       "3  0.005274 -0.190321 -1.175575  0.647376 -0.221929  0.062723  0.061458      0  \n",
       "4  0.798278 -0.137458  0.141267 -0.206010  0.502292  0.219422  0.215153      0  \n",
       "5 -0.559825 -0.026398 -0.371427 -0.232794  0.105915  0.253844  0.081080      0  \n",
       "6 -0.270710 -0.154104 -0.780055  0.750137 -0.257237  0.034507  0.005168      0  \n",
       "7 -1.015455  0.057504 -0.649709 -0.415267 -0.051634 -1.206921 -1.085339      0  \n",
       "8 -0.268092 -0.204233  1.011592  0.373205 -0.384157  0.011747  0.142404      0  \n",
       "9 -0.633753 -0.120794 -0.385050 -0.069733  0.094199  0.246219  0.083076      0  \n",
       "\n",
       "[10 rows x 31 columns]"
      ]
     },
     "execution_count": 5,
     "metadata": {},
     "output_type": "execute_result"
    }
   ],
   "source": [
    "# Reason: robust scaler is immune to outliers, as median is chosen as the central tendancy.\n",
    "from sklearn.preprocessing import StandardScaler, RobustScaler\n",
    "\n",
    "rob_scaler = RobustScaler()\n",
    "\n",
    "df['scaled_amount'] = rob_scaler.fit_transform(df['Amount'].values.reshape(-1,1))\n",
    "df['scaled_time'] = rob_scaler.fit_transform(df['Time'].values.reshape(-1,1))\n",
    "\n",
    "df.drop(['Time','Amount'], axis=1, inplace=True)\n",
    "df = df[['scaled_time','scaled_amount', 'V1', 'V2', 'V3', 'V4', 'V5', 'V6', 'V7', 'V8', 'V9', 'V10',\n",
    "       'V11', 'V12', 'V13', 'V14', 'V15', 'V16', 'V17', 'V18', 'V19', 'V20',\n",
    "       'V21', 'V22', 'V23', 'V24', 'V25', 'V26', 'V27', 'V28',\n",
    "       'Class']]\n",
    "print('Scaled Data\\n')\n",
    "df.head(10)"
   ]
  },
  {
   "cell_type": "code",
   "execution_count": 6,
   "metadata": {},
   "outputs": [
    {
     "name": "stdout",
     "output_type": "stream",
     "text": [
      "df shape (284799, 31)\n",
      "original_Xtrain shape (227840, 30)\n",
      "original_ytrain shape (227840,)\n",
      "original_Xtest shape (56959, 30)\n",
      "original_ytest shape (56959,)\n"
     ]
    }
   ],
   "source": [
    "from sklearn.model_selection import train_test_split\n",
    "from sklearn.model_selection import StratifiedKFold\n",
    "\n",
    "X = df.drop('Class', axis=1)\n",
    "y = df['Class']\n",
    "\n",
    "sss = StratifiedKFold(n_splits=5, random_state=None, shuffle=False)\n",
    "\n",
    "for train_index, test_index in sss.split(X, y):\n",
    "    # print(\"Train:\", train_index, \"Test:\", test_index)\n",
    "    original_Xtrain, original_Xtest = X.iloc[train_index], X.iloc[test_index]\n",
    "    original_ytrain, original_ytest = y.iloc[train_index], y.iloc[test_index]\n",
    "\n",
    "print(\"df shape\", df.shape)\n",
    "print(\"original_Xtrain shape\", original_Xtrain.shape)\n",
    "print(\"original_ytrain shape\", original_ytrain.shape)\n",
    "print(\"original_Xtest shape\", original_Xtest.shape)\n",
    "print(\"original_ytest shape\", original_ytest.shape)"
   ]
  },
  {
   "cell_type": "code",
   "execution_count": 7,
   "metadata": {},
   "outputs": [],
   "source": [
    "# Make Dataset\n",
    "\n",
    "credit_card_4_5 = pd.concat([pd.DataFrame(original_Xtrain), pd.DataFrame(original_ytrain)], axis=1)\n",
    "credit_card_1_5 = pd.concat([pd.DataFrame(original_Xtest), pd.DataFrame(original_ytest)], axis=1)\n"
   ]
  },
  {
   "cell_type": "code",
   "execution_count": 8,
   "metadata": {},
   "outputs": [],
   "source": [
    "credit_card_1_5.to_csv(\"credit_card_1_5.csv\")\n",
    "credit_card_4_5.to_csv(\"credit_card_4_5.csv\")"
   ]
  },
  {
   "cell_type": "code",
   "execution_count": 9,
   "metadata": {},
   "outputs": [
    {
     "name": "stdout",
     "output_type": "stream",
     "text": [
      "credit_card_4_5 ->  (227840, 31)\n",
      "credit_card_1_5 ->  (56959, 31)\n"
     ]
    }
   ],
   "source": [
    "print(\"credit_card_4_5 -> \", credit_card_4_5.shape)\n",
    "print(\"credit_card_1_5 -> \", credit_card_1_5.shape)\n"
   ]
  },
  {
   "cell_type": "code",
   "execution_count": 10,
   "metadata": {},
   "outputs": [],
   "source": [
    "df = credit_card_4_5"
   ]
  },
  {
   "cell_type": "code",
   "execution_count": 11,
   "metadata": {},
   "outputs": [],
   "source": [
    "nonfraud = df[df.Class == 0]\n",
    "fraud = df[df.Class == 1]"
   ]
  },
  {
   "cell_type": "code",
   "execution_count": 12,
   "metadata": {},
   "outputs": [
    {
     "name": "stdout",
     "output_type": "stream",
     "text": [
      "(394, 31)\n",
      "(227446, 31)\n"
     ]
    }
   ],
   "source": [
    "print(fraud.shape)\n",
    "print(nonfraud.shape)"
   ]
  },
  {
   "cell_type": "code",
   "execution_count": 13,
   "metadata": {},
   "outputs": [
    {
     "name": "stdout",
     "output_type": "stream",
     "text": [
      "----------------------------------------------------------------------------------------------------\n",
      "----------------------------------------------------------------------------------------------------\n"
     ]
    }
   ],
   "source": [
    "print('-'*100)\n",
    "print('-'*100)"
   ]
  },
  {
   "cell_type": "markdown",
   "metadata": {},
   "source": [
    "We have trained and tested 5 models:\n",
    "1. Isolation Forest\n",
    "2. Gaussian Anomaly Detection\n",
    "3. Logistic Regression\n",
    "4. Support Vector Classifier\n",
    "5. K-Nearest Neighors Classifier\n",
    "\n",
    "All our models were finally tested on a set of around **57,000 transactions**, which had proportional **98 fraud transactions**, which is roughly equivalent to **10 hours worth credit card transactions**.\n",
    "\n",
    "When we trained and tested our models, there were various interesting observations. \n",
    "\n",
    "There was always a **trade-off** between the **number of fraud transactions that were missed** and the **number of non-fraud transactions that were branded as fraudulent.** \n",
    "\n",
    "**Practically, for the European Bank** this tradeoff can be modeled as a tradeoff between **missed fraud transactions** and **work-force required**.\n"
   ]
  },
  {
   "cell_type": "markdown",
   "metadata": {},
   "source": [
    "# ISOLATION FOREST\n",
    "\n",
    "**An Anomaly Detection Algorithm**\n",
    "\n",
    "**Motivaton:** Outliers are less frequent than regular observations and they lie further away from the regular observations.\n",
    "\n",
    "**Strategy:** \n",
    "\n",
    "The algorithm tries to isolates every data tuple from its neighbours.\n",
    "\n",
    "The data tuples which require relatively less number of steps for isolation are regarded as outliers. \n",
    "\n",
    "This is done by dividing the data into smaller samples and then building small decision trees for finding the path length for isolation. \n"
   ]
  },
  {
   "cell_type": "code",
   "execution_count": 14,
   "metadata": {},
   "outputs": [],
   "source": [
    "from sklearn.ensemble import IsolationForest\n",
    "from sklearn.metrics import confusion_matrix, classification_report, accuracy_score"
   ]
  },
  {
   "cell_type": "code",
   "execution_count": 15,
   "metadata": {},
   "outputs": [],
   "source": [
    "X_test = credit_card_1_5.drop('Class',axis=1)\n",
    "y_test = credit_card_1_5['Class']"
   ]
  },
  {
   "cell_type": "code",
   "execution_count": 16,
   "metadata": {},
   "outputs": [
    {
     "name": "stderr",
     "output_type": "stream",
     "text": [
      "D:\\Anaconda3\\lib\\site-packages\\sklearn\\ensemble\\iforest.py:223: FutureWarning: behaviour=\"old\" is deprecated and will be removed in version 0.22. Please use behaviour=\"new\", which makes the decision_function change to match other anomaly detection algorithm API.\n",
      "  FutureWarning)\n",
      "D:\\Anaconda3\\lib\\site-packages\\sklearn\\ensemble\\iforest.py:417: DeprecationWarning: threshold_ attribute is deprecated in 0.20 and will be removed in 0.22.\n",
      "  \" be removed in 0.22.\", DeprecationWarning)\n"
     ]
    },
    {
     "name": "stdout",
     "output_type": "stream",
     "text": [
      "[[39185 17676]\n",
      " [    9    89]]\n",
      "0.6895135097175161\n",
      "              precision    recall  f1-score   support\n",
      "\n",
      "           0       1.00      0.69      0.82     56861\n",
      "           1       0.01      0.91      0.01        98\n",
      "\n",
      "   micro avg       0.69      0.69      0.69     56959\n",
      "   macro avg       0.50      0.80      0.41     56959\n",
      "weighted avg       1.00      0.69      0.81     56959\n",
      "\n",
      "Total number of Transactions classified as Fraudulent:  17765\n",
      "Number of Fraudulent Transactions classified as Non-fraudulent:  9 out of 98\n"
     ]
    },
    {
     "data": {
      "image/png": "[encoded data removed]",
      "text/plain": [
       "<Figure size 432x288 with 1 Axes>"
      ]
     },
     "metadata": {
      "needs_background": "light"
     },
     "output_type": "display_data"
    }
   ],
   "source": [
    "nonfraud_sample = nonfraud.sample(n=1000)\n",
    "df_outlier=pd.concat([fraud,nonfraud_sample])\n",
    "X_train = df_outlier.drop('Class', axis=1)\n",
    "y_train = df_outlier['Class']\n",
    "\n",
    "state = 1\n",
    "outlier_fraction = len(fraud)/float(len(nonfraud_sample))\n",
    "\n",
    "clf = IsolationForest(max_samples=len(X_train), contamination = outlier_fraction, random_state = state)\n",
    "clf.fit(X_train)\n",
    "y_pred = clf.predict(X_test)\n",
    "y_pred[y_pred == 1] = 0\n",
    "y_pred[y_pred == -1] = 1\n",
    "y_pred = pd.DataFrame(y_pred)\n",
    "\n",
    "mat = confusion_matrix(y_test,y_pred)\n",
    "print(mat)\n",
    "print(accuracy_score(y_test,y_pred))\n",
    "print(classification_report(y_test,y_pred))\n",
    "print(\"Total number of Transactions classified as Fraudulent: \", mat[1][1]+mat[0][1])\n",
    "print(\"Number of Fraudulent Transactions classified as Non-fraudulent: \", mat[1][0], \"out of 98\")\n",
    "\n",
    "from sklearn.metrics import roc_curve\n",
    "from matplotlib import pyplot\n",
    "fpr, tpr, thresholds = roc_curve(y_test, y_pred)\n",
    "pyplot.plot([0, 1], [0, 1], linestyle='--')\n",
    "# plot the roc curve for the model\n",
    "pyplot.plot(fpr, tpr, marker='.')\n",
    "pyplot.xlabel('False Positive Rate')\n",
    "pyplot.ylabel('True Positive Rate')\n",
    "pyplot.title('ROC curve when n = 1000')\n",
    "# show the plot\n",
    "pyplot.show()"
   ]
  },
  {
   "cell_type": "code",
   "execution_count": 17,
   "metadata": {},
   "outputs": [
    {
     "name": "stderr",
     "output_type": "stream",
     "text": [
      "D:\\Anaconda3\\lib\\site-packages\\sklearn\\ensemble\\iforest.py:223: FutureWarning: behaviour=\"old\" is deprecated and will be removed in version 0.22. Please use behaviour=\"new\", which makes the decision_function change to match other anomaly detection algorithm API.\n",
      "  FutureWarning)\n",
      "D:\\Anaconda3\\lib\\site-packages\\sklearn\\ensemble\\iforest.py:417: DeprecationWarning: threshold_ attribute is deprecated in 0.20 and will be removed in 0.22.\n",
      "  \" be removed in 0.22.\", DeprecationWarning)\n"
     ]
    },
    {
     "name": "stdout",
     "output_type": "stream",
     "text": [
      "[[56610   251]\n",
      " [   70    28]]\n",
      "0.9943643673519549\n",
      "              precision    recall  f1-score   support\n",
      "\n",
      "           0       1.00      1.00      1.00     56861\n",
      "           1       0.10      0.29      0.15        98\n",
      "\n",
      "   micro avg       0.99      0.99      0.99     56959\n",
      "   macro avg       0.55      0.64      0.57     56959\n",
      "weighted avg       1.00      0.99      1.00     56959\n",
      "\n",
      "Total number of Transactions classified as Fraudulent:  279\n",
      "Number of Fraudulent Transactions classified as Non-fraudulent:  70 out of 98\n"
     ]
    },
    {
     "data": {
      "image/png": "[encoded data removed]",
      "text/plain": [
       "<Figure size 432x288 with 1 Axes>"
      ]
     },
     "metadata": {
      "needs_background": "light"
     },
     "output_type": "display_data"
    }
   ],
   "source": [
    "nonfraud_sample = nonfraud.sample(n=45000)\n",
    "df_outlier=pd.concat([fraud,nonfraud_sample])\n",
    "X_train = df_outlier.drop('Class', axis=1)\n",
    "y_train = df_outlier['Class']\n",
    "\n",
    "state = 1\n",
    "outlier_fraction = len(fraud)/float(len(nonfraud_sample))\n",
    "\n",
    "clf = IsolationForest(max_samples=len(X_train), contamination = outlier_fraction, random_state = state)\n",
    "clf.fit(X_train)\n",
    "y_pred = clf.predict(X_test)\n",
    "y_pred[y_pred == 1] = 0\n",
    "y_pred[y_pred == -1] = 1\n",
    "y_pred = pd.DataFrame(y_pred)\n",
    "\n",
    "mat = confusion_matrix(y_test,y_pred)\n",
    "print(mat)\n",
    "print(accuracy_score(y_test,y_pred))\n",
    "print(classification_report(y_test,y_pred))\n",
    "print(\"Total number of Transactions classified as Fraudulent: \", mat[1][1]+mat[0][1])\n",
    "print(\"Number of Fraudulent Transactions classified as Non-fraudulent: \", mat[1][0], \"out of 98\")\n",
    "\n",
    "from sklearn.metrics import roc_curve\n",
    "from matplotlib import pyplot\n",
    "fpr, tpr, thresholds = roc_curve(y_test, y_pred)\n",
    "pyplot.plot([0, 1], [0, 1], linestyle='--')\n",
    "# plot the roc curve for the model\n",
    "pyplot.plot(fpr, tpr, marker='.')\n",
    "pyplot.xlabel('False Positive Rate')\n",
    "pyplot.ylabel('True Positive Rate')\n",
    "pyplot.title('ROC curve when n = 1000')\n",
    "# show the plot\n",
    "pyplot.show()"
   ]
  },
  {
   "cell_type": "code",
   "execution_count": 55,
   "metadata": {
    "scrolled": false
   },
   "outputs": [
    {
     "name": "stderr",
     "output_type": "stream",
     "text": [
      "D:\\Anaconda3\\lib\\site-packages\\sklearn\\ensemble\\iforest.py:223: FutureWarning: behaviour=\"old\" is deprecated and will be removed in version 0.22. Please use behaviour=\"new\", which makes the decision_function change to match other anomaly detection algorithm API.\n",
      "  FutureWarning)\n",
      "D:\\Anaconda3\\lib\\site-packages\\sklearn\\ensemble\\iforest.py:417: DeprecationWarning: threshold_ attribute is deprecated in 0.20 and will be removed in 0.22.\n",
      "  \" be removed in 0.22.\", DeprecationWarning)\n"
     ]
    },
    {
     "name": "stdout",
     "output_type": "stream",
     "text": [
      "[[55301  1560]\n",
      " [   29    69]]\n",
      "Accuracy for Isolation Forest:  97.21027405677768\n",
      "              precision    recall  f1-score   support\n",
      "\n",
      "           0       1.00      0.97      0.99     56861\n",
      "           1       0.04      0.70      0.08        98\n",
      "\n",
      "   micro avg       0.97      0.97      0.97     56959\n",
      "   macro avg       0.52      0.84      0.53     56959\n",
      "weighted avg       1.00      0.97      0.98     56959\n",
      "\n",
      "Total number of Transactions classified as Fraudulent:  1629\n",
      "Number of Fraudulent Transactions classified as Non-fraudulent:  29 out of 98\n"
     ]
    },
    {
     "data": {
      "image/png": "[encoded data removed]",
      "text/plain": [
       "<Figure size 432x288 with 1 Axes>"
      ]
     },
     "metadata": {
      "needs_background": "light"
     },
     "output_type": "display_data"
    }
   ],
   "source": [
    "nonfraud_sample = nonfraud.sample(n=5000)\n",
    "df_outlier=pd.concat([fraud,nonfraud_sample])\n",
    "X_train = df_outlier.drop('Class', axis=1)\n",
    "y_train = df_outlier['Class']\n",
    "\n",
    "state = 1\n",
    "outlier_fraction = len(fraud)/float(len(nonfraud_sample))\n",
    "\n",
    "clf = IsolationForest(max_samples=len(X_train), contamination = outlier_fraction, random_state = state)\n",
    "clf.fit(X_train)\n",
    "y_pred = clf.predict(X_test)\n",
    "y_pred[y_pred == 1] = 0\n",
    "y_pred[y_pred == -1] = 1\n",
    "y_pred = pd.DataFrame(y_pred)\n",
    "\n",
    "mat = confusion_matrix(y_test,y_pred)\n",
    "print(mat)\n",
    "print(\"Accuracy for Isolation Forest: \", accuracy_score(y_test, y_pred)*100)\n",
    "print(classification_report(y_test,y_pred))\n",
    "print(\"Total number of Transactions classified as Fraudulent: \", mat[1][1]+mat[0][1])\n",
    "print(\"Number of Fraudulent Transactions classified as Non-fraudulent: \", mat[1][0], \"out of 98\")\n",
    "\n",
    "\n",
    "from sklearn.metrics import roc_curve\n",
    "from matplotlib import pyplot\n",
    "fpr, tpr, thresholds = roc_curve(y_test, y_pred)\n",
    "pyplot.plot([0, 1], [0, 1], linestyle='--')\n",
    "# plot the roc curve for the model\n",
    "pyplot.plot(fpr, tpr, marker='.')\n",
    "pyplot.xlabel('False Positive Rate')\n",
    "pyplot.ylabel('True Positive Rate')\n",
    "pyplot.title('ROC curve when n = 1000')\n",
    "# show the plot\n",
    "pyplot.show()\n"
   ]
  },
  {
   "cell_type": "code",
   "execution_count": 51,
   "metadata": {},
   "outputs": [
    {
     "data": {
      "text/plain": [
       "<matplotlib.axes._subplots.AxesSubplot at 0x15c25157c88>"
      ]
     },
     "execution_count": 51,
     "metadata": {},
     "output_type": "execute_result"
    },
    {
     "data": {
      "image/png": "[encoded data removed]",
      "text/plain": [
       "<Figure size 720x504 with 2 Axes>"
      ]
     },
     "metadata": {
      "needs_background": "light"
     },
     "output_type": "display_data"
    }
   ],
   "source": [
    "import seaborn as sn\n",
    "df_cm = pd.DataFrame(confusion_matrix(y_test, y_pred), index = [i for i in ['Non-Fraudulent','Fraudulent']],\n",
    "                  columns = [i for i in ['Non-Fraudulent','Fraudulent']])\n",
    "plt.figure(figsize = (10,7))\n",
    "plt.title(\"Gaussian Anomaly Detection\")\n",
    "sn.heatmap(df_cm, annot=True)\n"
   ]
  },
  {
   "cell_type": "code",
   "execution_count": 19,
   "metadata": {},
   "outputs": [],
   "source": [
    "y_pred_iso = y_pred"
   ]
  },
  {
   "cell_type": "markdown",
   "metadata": {},
   "source": [
    "# GAUSSIAN ANOMALY DETECTION\n"
   ]
  },
  {
   "cell_type": "markdown",
   "metadata": {},
   "source": [
    "The **intuition** behind applying this technique in our case;-\n"
   ]
  },
  {
   "cell_type": "markdown",
   "metadata": {},
   "source": [
    "It is **preferred over Supervised Learning Algorithms** when there are very small positive examples (y=1) compared to large negative examples (y=0) which makes it **ideal** for our case due to **high-class imbalance nature** of our Dataset."
   ]
  },
  {
   "cell_type": "markdown",
   "metadata": {},
   "source": [
    "Since credit card fraud in the future may be completely different, it gives us the **liberty of classifying different types of anomalies**. In contrast to other classification algorithms which demand future examples similar to training ones."
   ]
  },
  {
   "cell_type": "markdown",
   "metadata": {},
   "source": [
    "The features provided to us are already gone through **PCA meaning independent** of each other thus satisfying the prerequisite of this technique."
   ]
  },
  {
   "cell_type": "code",
   "execution_count": 50,
   "metadata": {},
   "outputs": [],
   "source": [
    "from scipy.stats import multivariate_normal\n",
    "\n",
    "def estimateGaussian(dataset):\n",
    "    mu = np.mean(dataset, axis=0)\n",
    "    sigma = np.cov(dataset.T)\n",
    "    return mu, sigma\n",
    "\n",
    "def multivariateGaussian(dataset, mu, sigma):\n",
    "    p = multivariate_normal(mean = mu, cov = sigma)\n",
    "    return p.pdf(dataset)\n"
   ]
  },
  {
   "cell_type": "code",
   "execution_count": 21,
   "metadata": {},
   "outputs": [],
   "source": [
    "# Epsilon value is the threshold value,\n",
    "# below which we will mark transaction as Anomalous.\n",
    "\n",
    "def selectThresholdByCV(probs,gt):\n",
    "    best_epsilon = 0\n",
    "    best_f1 = 0\n",
    "    f = 0\n",
    "    farray = []\n",
    "    Recallarray = []\n",
    "    Precisionarray = []\n",
    "    epsilons = (0.0000e+00, 1.0527717316e-70, 1.0527717316e-50, 1.0527717316e-24)\n",
    "    for epsilon in epsilons:\n",
    "        predictions = (p_cv < epsilon)\n",
    "        f = f1_score(train_cv_y, predictions, average = \"binary\")\n",
    "        Recall = recall_score(train_cv_y, predictions, average = \"binary\")\n",
    "        Precision = precision_score(train_cv_y, predictions, average = \"binary\")\n",
    "        farray.append(f)\n",
    "        Recallarray.append(Recall)\n",
    "        Precisionarray.append(Precision)\n",
    "        print ('For below Epsilon')\n",
    "        print(epsilon)\n",
    "        print ('F1 score , Recall and Precision are as below')\n",
    "        print ('Best F1 Score %f' %f)\n",
    "        print ('Best Recall Score %f' %Recall)\n",
    "        print ('Best Precision Score %f' %Precision)\n",
    "        print ('-'*40)\n",
    "        if f > best_f1:\n",
    "            best_f1 = f\n",
    "            best_recall = Recall\n",
    "            best_precision = Precision\n",
    "            best_epsilon = epsilon    \n",
    "    fig = plt.figure()\n",
    "    ax = fig.add_axes([0.1, 0.5, 0.7, 0.3])\n",
    "    #plt.subplot(3,1,1)\n",
    "    plt.plot(farray ,\"ro\")\n",
    "    plt.plot(farray)\n",
    "    ax.set_xticks(range(5))\n",
    "    ax.set_xticklabels(epsilons,rotation = 60 ,fontsize = 'medium' )\n",
    "    ax.set_ylim((0,1.0))\n",
    "    ax.set_title('F1 score vs Epsilon value')\n",
    "    ax.annotate('Best F1 Score', xy=(best_epsilon,best_f1), xytext=(best_epsilon,best_f1))\n",
    "    plt.xlabel(\"Epsilon value\") \n",
    "    plt.ylabel(\"F1 Score\") \n",
    "    plt.show()\n",
    "    fig = plt.figure()\n",
    "    ax = fig.add_axes([0.1, 0.5, 0.9, 0.3])\n",
    "    #plt.subplot(3,1,2)\n",
    "    plt.plot(Recallarray ,\"ro\")\n",
    "    plt.plot(Recallarray)\n",
    "    ax.set_xticks(range(5))\n",
    "    ax.set_xticklabels(epsilons,rotation = 60 ,fontsize = 'medium' )\n",
    "    ax.set_ylim((0,1.0))\n",
    "    ax.set_title('Recall vs Epsilon value')\n",
    "    ax.annotate('Best Recall Score', xy=(best_epsilon,best_recall), xytext=(best_epsilon,best_recall))\n",
    "    plt.xlabel(\"Epsilon value\") \n",
    "    plt.ylabel(\"Recall Score\") \n",
    "    plt.show()\n",
    "    fig = plt.figure()\n",
    "    ax = fig.add_axes([0.1, 0.5, 0.9, 0.3])\n",
    "    #plt.subplot(3,1,3)\n",
    "    plt.plot(Precisionarray ,\"ro\")\n",
    "    plt.plot(Precisionarray)\n",
    "    ax.set_xticks(range(5))\n",
    "    ax.set_xticklabels(epsilons,rotation = 60 ,fontsize = 'medium' )\n",
    "    ax.set_ylim((0,1.0))\n",
    "    ax.set_title('Precision vs Epsilon value')\n",
    "    ax.annotate('Best Precision Score', xy=(best_epsilon,best_precision), xytext=(best_epsilon,best_precision))\n",
    "    plt.xlabel(\"Epsilon value\") \n",
    "    plt.ylabel(\"Precision Score\") \n",
    "    plt.show()\n",
    "    return best_f1, best_epsilon"
   ]
  },
  {
   "cell_type": "code",
   "execution_count": 22,
   "metadata": {},
   "outputs": [
    {
     "data": {
      "text/html": [
       "<div>\n",
       "<style scoped>\n",
       "    .dataframe tbody tr th:only-of-type {\n",
       "        vertical-align: middle;\n",
       "    }\n",
       "\n",
       "    .dataframe tbody tr th {\n",
       "        vertical-align: top;\n",
       "    }\n",
       "\n",
       "    .dataframe thead th {\n",
       "        text-align: right;\n",
       "    }\n",
       "</style>\n",
       "<table border=\"1\" class=\"dataframe\">\n",
       "  <thead>\n",
       "    <tr style=\"text-align: right;\">\n",
       "      <th></th>\n",
       "      <th>scaled_time</th>\n",
       "      <th>scaled_amount</th>\n",
       "      <th>V1</th>\n",
       "      <th>V2</th>\n",
       "      <th>V3</th>\n",
       "      <th>V4</th>\n",
       "      <th>V5</th>\n",
       "      <th>V6</th>\n",
       "      <th>V7</th>\n",
       "      <th>V8</th>\n",
       "      <th>...</th>\n",
       "      <th>V20</th>\n",
       "      <th>V21</th>\n",
       "      <th>V22</th>\n",
       "      <th>V23</th>\n",
       "      <th>V24</th>\n",
       "      <th>V25</th>\n",
       "      <th>V26</th>\n",
       "      <th>V27</th>\n",
       "      <th>V28</th>\n",
       "      <th>Class</th>\n",
       "    </tr>\n",
       "  </thead>\n",
       "  <tbody>\n",
       "    <tr>\n",
       "      <th>0</th>\n",
       "      <td>-0.994989</td>\n",
       "      <td>1.783399</td>\n",
       "      <td>-1.359807</td>\n",
       "      <td>-0.072781</td>\n",
       "      <td>2.536347</td>\n",
       "      <td>1.378155</td>\n",
       "      <td>-0.338321</td>\n",
       "      <td>0.462388</td>\n",
       "      <td>0.239599</td>\n",
       "      <td>0.098698</td>\n",
       "      <td>...</td>\n",
       "      <td>0.251412</td>\n",
       "      <td>-0.018307</td>\n",
       "      <td>0.277838</td>\n",
       "      <td>-0.110474</td>\n",
       "      <td>0.066928</td>\n",
       "      <td>0.128539</td>\n",
       "      <td>-0.189115</td>\n",
       "      <td>0.133558</td>\n",
       "      <td>-0.021053</td>\n",
       "      <td>0</td>\n",
       "    </tr>\n",
       "    <tr>\n",
       "      <th>1</th>\n",
       "      <td>-0.994989</td>\n",
       "      <td>-0.269843</td>\n",
       "      <td>1.191857</td>\n",
       "      <td>0.266151</td>\n",
       "      <td>0.166480</td>\n",
       "      <td>0.448154</td>\n",
       "      <td>0.060018</td>\n",
       "      <td>-0.082361</td>\n",
       "      <td>-0.078803</td>\n",
       "      <td>0.085102</td>\n",
       "      <td>...</td>\n",
       "      <td>-0.069083</td>\n",
       "      <td>-0.225775</td>\n",
       "      <td>-0.638672</td>\n",
       "      <td>0.101288</td>\n",
       "      <td>-0.339846</td>\n",
       "      <td>0.167170</td>\n",
       "      <td>0.125895</td>\n",
       "      <td>-0.008983</td>\n",
       "      <td>0.014724</td>\n",
       "      <td>0</td>\n",
       "    </tr>\n",
       "    <tr>\n",
       "      <th>2</th>\n",
       "      <td>-0.994978</td>\n",
       "      <td>4.984069</td>\n",
       "      <td>-1.358354</td>\n",
       "      <td>-1.340163</td>\n",
       "      <td>1.773209</td>\n",
       "      <td>0.379780</td>\n",
       "      <td>-0.503198</td>\n",
       "      <td>1.800499</td>\n",
       "      <td>0.791461</td>\n",
       "      <td>0.247676</td>\n",
       "      <td>...</td>\n",
       "      <td>0.524980</td>\n",
       "      <td>0.247998</td>\n",
       "      <td>0.771679</td>\n",
       "      <td>0.909412</td>\n",
       "      <td>-0.689281</td>\n",
       "      <td>-0.327642</td>\n",
       "      <td>-0.139097</td>\n",
       "      <td>-0.055353</td>\n",
       "      <td>-0.059752</td>\n",
       "      <td>0</td>\n",
       "    </tr>\n",
       "    <tr>\n",
       "      <th>3</th>\n",
       "      <td>-0.994978</td>\n",
       "      <td>1.418390</td>\n",
       "      <td>-0.966272</td>\n",
       "      <td>-0.185226</td>\n",
       "      <td>1.792993</td>\n",
       "      <td>-0.863291</td>\n",
       "      <td>-0.010309</td>\n",
       "      <td>1.247203</td>\n",
       "      <td>0.237609</td>\n",
       "      <td>0.377436</td>\n",
       "      <td>...</td>\n",
       "      <td>-0.208038</td>\n",
       "      <td>-0.108300</td>\n",
       "      <td>0.005274</td>\n",
       "      <td>-0.190321</td>\n",
       "      <td>-1.175575</td>\n",
       "      <td>0.647376</td>\n",
       "      <td>-0.221929</td>\n",
       "      <td>0.062723</td>\n",
       "      <td>0.061458</td>\n",
       "      <td>0</td>\n",
       "    </tr>\n",
       "    <tr>\n",
       "      <th>4</th>\n",
       "      <td>-0.994966</td>\n",
       "      <td>0.670626</td>\n",
       "      <td>-1.158233</td>\n",
       "      <td>0.877737</td>\n",
       "      <td>1.548718</td>\n",
       "      <td>0.403034</td>\n",
       "      <td>-0.407193</td>\n",
       "      <td>0.095921</td>\n",
       "      <td>0.592941</td>\n",
       "      <td>-0.270533</td>\n",
       "      <td>...</td>\n",
       "      <td>0.408542</td>\n",
       "      <td>-0.009431</td>\n",
       "      <td>0.798278</td>\n",
       "      <td>-0.137458</td>\n",
       "      <td>0.141267</td>\n",
       "      <td>-0.206010</td>\n",
       "      <td>0.502292</td>\n",
       "      <td>0.219422</td>\n",
       "      <td>0.215153</td>\n",
       "      <td>0</td>\n",
       "    </tr>\n",
       "  </tbody>\n",
       "</table>\n",
       "<p>5 rows × 31 columns</p>\n",
       "</div>"
      ],
      "text/plain": [
       "   scaled_time  scaled_amount        V1        V2        V3        V4  \\\n",
       "0    -0.994989       1.783399 -1.359807 -0.072781  2.536347  1.378155   \n",
       "1    -0.994989      -0.269843  1.191857  0.266151  0.166480  0.448154   \n",
       "2    -0.994978       4.984069 -1.358354 -1.340163  1.773209  0.379780   \n",
       "3    -0.994978       1.418390 -0.966272 -0.185226  1.792993 -0.863291   \n",
       "4    -0.994966       0.670626 -1.158233  0.877737  1.548718  0.403034   \n",
       "\n",
       "         V5        V6        V7        V8  ...         V20       V21  \\\n",
       "0 -0.338321  0.462388  0.239599  0.098698  ...    0.251412 -0.018307   \n",
       "1  0.060018 -0.082361 -0.078803  0.085102  ...   -0.069083 -0.225775   \n",
       "2 -0.503198  1.800499  0.791461  0.247676  ...    0.524980  0.247998   \n",
       "3 -0.010309  1.247203  0.237609  0.377436  ...   -0.208038 -0.108300   \n",
       "4 -0.407193  0.095921  0.592941 -0.270533  ...    0.408542 -0.009431   \n",
       "\n",
       "        V22       V23       V24       V25       V26       V27       V28  Class  \n",
       "0  0.277838 -0.110474  0.066928  0.128539 -0.189115  0.133558 -0.021053      0  \n",
       "1 -0.638672  0.101288 -0.339846  0.167170  0.125895 -0.008983  0.014724      0  \n",
       "2  0.771679  0.909412 -0.689281 -0.327642 -0.139097 -0.055353 -0.059752      0  \n",
       "3  0.005274 -0.190321 -1.175575  0.647376 -0.221929  0.062723  0.061458      0  \n",
       "4  0.798278 -0.137458  0.141267 -0.206010  0.502292  0.219422  0.215153      0  \n",
       "\n",
       "[5 rows x 31 columns]"
      ]
     },
     "execution_count": 22,
     "metadata": {},
     "output_type": "execute_result"
    }
   ],
   "source": [
    "df.head()"
   ]
  },
  {
   "cell_type": "code",
   "execution_count": 23,
   "metadata": {},
   "outputs": [],
   "source": [
    "from sklearn.ensemble import RandomForestClassifier\n",
    "\n",
    "# Feature Importance\n",
    "# To ease the Problem at hand, we use Feature importance to get rid \n",
    "# of unwanted features whose existance will not improve our prediction model. \n",
    "\n",
    "# For that, I have used random forest classifier to identify the influential fetures. \n",
    "\n",
    "rnd_clf = RandomForestClassifier(n_estimators = 100, criterion = 'entropy', random_state = 0)\n",
    "rnd_clf.fit(df.iloc[:,2:29],df.iloc[:,30]);\n"
   ]
  },
  {
   "cell_type": "code",
   "execution_count": 25,
   "metadata": {},
   "outputs": [
    {
     "ename": "ModuleNotFoundError",
     "evalue": "No module named 'plotly'",
     "output_type": "error",
     "traceback": [
      "\u001b[1;31m---------------------------------------------------------------------------\u001b[0m",
      "\u001b[1;31mModuleNotFoundError\u001b[0m                       Traceback (most recent call last)",
      "\u001b[1;32m<ipython-input-25-8b641ba45747>\u001b[0m in \u001b[0;36m<module>\u001b[1;34m\u001b[0m\n\u001b[0;32m      1\u001b[0m \u001b[1;31m# Visualizing feature importance\u001b[0m\u001b[1;33m\u001b[0m\u001b[1;33m\u001b[0m\u001b[1;33m\u001b[0m\u001b[0m\n\u001b[1;32m----> 2\u001b[1;33m \u001b[1;32mimport\u001b[0m \u001b[0mplotly\u001b[0m\u001b[1;33m.\u001b[0m\u001b[0mgraph_objs\u001b[0m \u001b[1;32mas\u001b[0m \u001b[0mgo\u001b[0m\u001b[1;33m\u001b[0m\u001b[1;33m\u001b[0m\u001b[0m\n\u001b[0m\u001b[0;32m      3\u001b[0m \u001b[1;32mfrom\u001b[0m \u001b[0mplotly\u001b[0m\u001b[1;33m.\u001b[0m\u001b[0moffline\u001b[0m \u001b[1;32mimport\u001b[0m \u001b[0mdownload_plotlyjs\u001b[0m\u001b[1;33m,\u001b[0m\u001b[0minit_notebook_mode\u001b[0m\u001b[1;33m,\u001b[0m\u001b[0mplot\u001b[0m\u001b[1;33m,\u001b[0m\u001b[0miplot\u001b[0m\u001b[1;33m\u001b[0m\u001b[1;33m\u001b[0m\u001b[0m\n\u001b[0;32m      4\u001b[0m \u001b[0minit_notebook_mode\u001b[0m\u001b[1;33m(\u001b[0m\u001b[0mconnected\u001b[0m\u001b[1;33m=\u001b[0m\u001b[1;32mTrue\u001b[0m\u001b[1;33m)\u001b[0m\u001b[1;33m\u001b[0m\u001b[1;33m\u001b[0m\u001b[0m\n\u001b[0;32m      5\u001b[0m \u001b[1;33m\u001b[0m\u001b[0m\n",
      "\u001b[1;31mModuleNotFoundError\u001b[0m: No module named 'plotly'"
     ]
    }
   ],
   "source": [
    "# Visualizing feature importance\n",
    "import plotly.graph_objs as go\n",
    "from plotly.offline import download_plotlyjs,init_notebook_mode,plot,iplot\n",
    "init_notebook_mode(connected=True)\n",
    "\n",
    "x, y = (list(x) for x in zip(*sorted(zip(rnd_clf.feature_importances_, df.iloc[:,2:29].columns), \n",
    "                                     reverse = False)))\n",
    "trace2 = go.Bar(\n",
    "    x = x ,\n",
    "    y = y,\n",
    "    marker = dict(color=x, colorscale = 'Viridis', reversescale = True),\n",
    "    name = 'Random Forest Feature importance',\n",
    "    orientation = 'h',\n",
    ")\n",
    "\n",
    "layout = dict(\n",
    "    title='Barplot of Feature importances',\n",
    "    width = 600, height = 1000,\n",
    "    yaxis=dict( showgrid=False, showline=False, showticklabels=True),\n",
    "    margin=dict(l=300),\n",
    ")\n",
    "\n",
    "fig1 = go.Figure(data=[trace2], layout=layout)\n",
    "iplot(fig1)"
   ]
  },
  {
   "cell_type": "code",
   "execution_count": 27,
   "metadata": {},
   "outputs": [
    {
     "data": {
      "image/png": "[encoded data removed]",
      "text/plain": [
       "<Figure size 432x288 with 1 Axes>"
      ]
     },
     "metadata": {
      "needs_background": "light"
     },
     "output_type": "display_data"
    }
   ],
   "source": [
    "im = plt.imread('feature_importance.png')\n",
    "# show the image\n",
    "plt.imshow(im)\n",
    "plt.show()"
   ]
  },
  {
   "cell_type": "code",
   "execution_count": 28,
   "metadata": {},
   "outputs": [
    {
     "name": "stdout",
     "output_type": "stream",
     "text": [
      "Relatively More Important Features\n",
      "\"V3\",\n",
      "\"V4\",\n",
      "\"V7\",\n",
      "\"V9\",\n",
      "\"V10\",\n",
      "\"V11\",\n",
      "\"V12\",\n",
      "\"V14\",\n",
      "\"V16\",\n",
      "\"V17\",\n",
      "\"V18\",\n"
     ]
    }
   ],
   "source": [
    "print(\"Relatively More Important Features\")\n",
    "for name, importance in zip(df.iloc[:,2:29].columns, rnd_clf.feature_importances_):\n",
    "    if importance > 0.015 :\n",
    "        print('\"' + name + '\"'+',')"
   ]
  },
  {
   "cell_type": "code",
   "execution_count": 29,
   "metadata": {},
   "outputs": [],
   "source": [
    "# Dropping less important features\n",
    "drop_features = ['V1','V2','V5','V6','V8','V13','V15','V19','V20','V21','V22','V23','V24','V25','V26','V27','V28']\n",
    "df.drop(drop_features, axis =1, inplace = True)\n"
   ]
  },
  {
   "cell_type": "code",
   "execution_count": 30,
   "metadata": {},
   "outputs": [
    {
     "data": {
      "text/plain": [
       "(227840, 14)"
      ]
     },
     "execution_count": 30,
     "metadata": {},
     "output_type": "execute_result"
    }
   ],
   "source": [
    "df.shape"
   ]
  },
  {
   "cell_type": "code",
   "execution_count": 31,
   "metadata": {},
   "outputs": [],
   "source": [
    "train_strip_v1 = df[df[\"Class\"] == 1]\n",
    "train_strip_v0 = df[df[\"Class\"] == 0]"
   ]
  },
  {
   "cell_type": "code",
   "execution_count": 32,
   "metadata": {},
   "outputs": [
    {
     "name": "stderr",
     "output_type": "stream",
     "text": [
      "D:\\Anaconda3\\lib\\site-packages\\pandas\\core\\frame.py:3697: SettingWithCopyWarning: \n",
      "A value is trying to be set on a copy of a slice from a DataFrame\n",
      "\n",
      "See the caveats in the documentation: http://pandas.pydata.org/pandas-docs/stable/indexing.html#indexing-view-versus-copy\n",
      "  errors=errors)\n"
     ]
    }
   ],
   "source": [
    "Normal_len = len (train_strip_v0)\n",
    "Anomolous_len = len (train_strip_v1)\n",
    "\n",
    "start_mid = Anomolous_len // 2\n",
    "start_midway = start_mid + 1\n",
    "\n",
    "train_cv_v1  = train_strip_v1 [: start_mid]\n",
    "train_test_v1 = train_strip_v1 [start_midway:Anomolous_len]\n",
    "\n",
    "start_mid = (Normal_len * 60) // 100\n",
    "start_midway = start_mid + 1\n",
    "\n",
    "cv_mid = (Normal_len * 80) // 100\n",
    "cv_midway = cv_mid + 1\n",
    "\n",
    "train_fraud = train_strip_v0 [:start_mid]\n",
    "train_cv    = train_strip_v0 [start_midway:cv_mid]\n",
    "train_test  = train_strip_v0 [cv_midway:Normal_len]\n",
    "\n",
    "train_cv = pd.concat([train_cv,train_cv_v1],axis=0)\n",
    "train_test = pd.concat([train_test,train_test_v1],axis=0)\n",
    "\n",
    "train_cv_y = train_cv[\"Class\"]\n",
    "train_test_y = train_test[\"Class\"]\n",
    "\n",
    "train_cv.drop(labels = [\"Class\"], axis = 1, inplace = True)\n",
    "train_fraud.drop(labels = [\"Class\"], axis = 1, inplace = True)\n",
    "train_test.drop(labels = [\"Class\"], axis = 1, inplace = True)"
   ]
  },
  {
   "cell_type": "code",
   "execution_count": 33,
   "metadata": {},
   "outputs": [],
   "source": [
    "# Finding Probabilities\n",
    "\n",
    "mu, sigma = estimateGaussian(train_fraud)\n",
    "p = multivariateGaussian(train_fraud,mu,sigma)\n",
    "p_cv = multivariateGaussian(train_cv,mu,sigma)\n",
    "p_test = multivariateGaussian(train_test,mu,sigma)"
   ]
  },
  {
   "cell_type": "code",
   "execution_count": 34,
   "metadata": {},
   "outputs": [
    {
     "name": "stdout",
     "output_type": "stream",
     "text": [
      "For below Epsilon\n",
      "0.0\n",
      "F1 score , Recall and Precision are as below\n",
      "Best F1 Score 0.000000\n",
      "Best Recall Score 0.000000\n",
      "Best Precision Score 0.000000\n",
      "----------------------------------------\n",
      "For below Epsilon\n",
      "1.0527717316e-70\n",
      "F1 score , Recall and Precision are as below\n",
      "Best F1 Score 0.788462\n",
      "Best Recall Score 0.832487\n",
      "Best Precision Score 0.748858\n",
      "----------------------------------------\n",
      "For below Epsilon\n",
      "1.0527717316e-50\n",
      "F1 score , Recall and Precision are as below\n",
      "Best F1 Score 0.696538\n",
      "Best Recall Score 0.868020\n",
      "Best Precision Score 0.581633\n",
      "----------------------------------------\n",
      "For below Epsilon\n",
      "1.0527717316e-24\n",
      "F1 score , Recall and Precision are as below\n",
      "Best F1 Score 0.375000\n",
      "Best Recall Score 0.883249\n",
      "Best Precision Score 0.238030\n",
      "----------------------------------------\n"
     ]
    },
    {
     "name": "stderr",
     "output_type": "stream",
     "text": [
      "D:\\Anaconda3\\lib\\site-packages\\sklearn\\metrics\\classification.py:1143: UndefinedMetricWarning: F-score is ill-defined and being set to 0.0 due to no predicted samples.\n",
      "  'precision', 'predicted', average, warn_for)\n",
      "D:\\Anaconda3\\lib\\site-packages\\sklearn\\metrics\\classification.py:1143: UndefinedMetricWarning: Precision is ill-defined and being set to 0.0 due to no predicted samples.\n",
      "  'precision', 'predicted', average, warn_for)\n"
     ]
    },
    {
     "data": {
      "image/png": "[encoded data removed]",
      "text/plain": [
       "<Figure size 432x288 with 1 Axes>"
      ]
     },
     "metadata": {
      "needs_background": "light"
     },
     "output_type": "display_data"
    },
    {
     "data": {
      "image/png": "[encoded data removed]",
      "text/plain": [
       "<Figure size 432x288 with 1 Axes>"
      ]
     },
     "metadata": {
      "needs_background": "light"
     },
     "output_type": "display_data"
    },
    {
     "data": {
      "image/png": "[encoded data removed]",
      "text/plain": [
       "<Figure size 432x288 with 1 Axes>"
      ]
     },
     "metadata": {
      "needs_background": "light"
     },
     "output_type": "display_data"
    }
   ],
   "source": [
    "# Performance wrt to Epsilon values\n",
    "from sklearn.metrics import f1_score\n",
    "from sklearn.metrics import recall_score , average_precision_score\n",
    "from sklearn.metrics import precision_score, precision_recall_curve\n",
    "\n",
    "fscore, ep= selectThresholdByCV(p_cv,train_cv_y)"
   ]
  },
  {
   "cell_type": "code",
   "execution_count": 35,
   "metadata": {},
   "outputs": [
    {
     "name": "stdout",
     "output_type": "stream",
     "text": [
      "PREDICTIONS ON CROSS-VALIDATION SET\n",
      "\n",
      "F1 score , Recall and Precision for Cross Validation dataset\n",
      "Best F1 Score 0.788462\n",
      "Best Recall Score 0.832487\n",
      "Best Precision Score 0.748858\n"
     ]
    }
   ],
   "source": [
    "\n",
    "print(\"PREDICTIONS ON CROSS-VALIDATION SET\\n\")\n",
    "predictions = (p_cv < ep)\n",
    "Recall = recall_score(train_cv_y, predictions, average = \"binary\")    \n",
    "Precision = precision_score(train_cv_y, predictions, average = \"binary\")\n",
    "F1score = f1_score(train_cv_y, predictions, average = \"binary\")    \n",
    "print ('F1 score , Recall and Precision for Cross Validation dataset')\n",
    "print ('Best F1 Score %f' %F1score)\n",
    "print ('Best Recall Score %f' %Recall)\n",
    "print ('Best Precision Score %f' %Precision)"
   ]
  },
  {
   "cell_type": "code",
   "execution_count": 36,
   "metadata": {},
   "outputs": [
    {
     "name": "stdout",
     "output_type": "stream",
     "text": [
      "PREDICTIONS ON TEST SET\n",
      "\n",
      "F1 score , Recall and Precision for Test dataset\n",
      "Best F1 Score 0.723514\n",
      "Best Recall Score 0.714286\n",
      "Best Precision Score 0.732984\n"
     ]
    }
   ],
   "source": [
    "print(\"PREDICTIONS ON TEST SET\\n\")\n",
    "predictions = (p_test < ep)\n",
    "Recall = recall_score(train_test_y, predictions, average = \"binary\")    \n",
    "Precision = precision_score(train_test_y, predictions, average = \"binary\")\n",
    "F1score = f1_score(train_test_y, predictions, average = \"binary\")    \n",
    "print ('F1 score , Recall and Precision for Test dataset')\n",
    "print ('Best F1 Score %f' %F1score)\n",
    "print ('Best Recall Score %f' %Recall)\n",
    "print ('Best Precision Score %f' %Precision)"
   ]
  },
  {
   "cell_type": "code",
   "execution_count": 37,
   "metadata": {},
   "outputs": [
    {
     "data": {
      "image/png": "[encoded data removed]",
      "text/plain": [
       "<Figure size 720x720 with 1 Axes>"
      ]
     },
     "metadata": {
      "needs_background": "light"
     },
     "output_type": "display_data"
    }
   ],
   "source": [
    "fig, ax = plt.subplots(figsize=(10, 10))\n",
    "ax.scatter(train_test['V14'],train_test['V11'],marker=\"o\", color=\"lightBlue\")\n",
    "ax.set_title('Anomalies(in red) vs Predicted Anomalies(in Green)')\n",
    "for i, txt in enumerate(train_test['V14'].index):\n",
    "       if train_test_y.loc[txt] == 1 :\n",
    "            ax.annotate('*', (train_test['V14'].loc[txt],train_test['V11'].loc[txt]),fontsize=13,color='Red')\n",
    "       if predictions[i] == True :\n",
    "            ax.annotate('o', (train_test['V14'].loc[txt],train_test['V11'].loc[txt]),fontsize=15,color='Green')"
   ]
  },
  {
   "cell_type": "code",
   "execution_count": 38,
   "metadata": {},
   "outputs": [],
   "source": [
    "test_df = credit_card_1_5"
   ]
  },
  {
   "cell_type": "code",
   "execution_count": 39,
   "metadata": {},
   "outputs": [
    {
     "data": {
      "text/html": [
       "<div>\n",
       "<style scoped>\n",
       "    .dataframe tbody tr th:only-of-type {\n",
       "        vertical-align: middle;\n",
       "    }\n",
       "\n",
       "    .dataframe tbody tr th {\n",
       "        vertical-align: top;\n",
       "    }\n",
       "\n",
       "    .dataframe thead th {\n",
       "        text-align: right;\n",
       "    }\n",
       "</style>\n",
       "<table border=\"1\" class=\"dataframe\">\n",
       "  <thead>\n",
       "    <tr style=\"text-align: right;\">\n",
       "      <th></th>\n",
       "      <th>scaled_time</th>\n",
       "      <th>scaled_amount</th>\n",
       "      <th>V1</th>\n",
       "      <th>V2</th>\n",
       "      <th>V3</th>\n",
       "      <th>V4</th>\n",
       "      <th>V5</th>\n",
       "      <th>V6</th>\n",
       "      <th>V7</th>\n",
       "      <th>V8</th>\n",
       "      <th>...</th>\n",
       "      <th>V20</th>\n",
       "      <th>V21</th>\n",
       "      <th>V22</th>\n",
       "      <th>V23</th>\n",
       "      <th>V24</th>\n",
       "      <th>V25</th>\n",
       "      <th>V26</th>\n",
       "      <th>V27</th>\n",
       "      <th>V28</th>\n",
       "      <th>Class</th>\n",
       "    </tr>\n",
       "  </thead>\n",
       "  <tbody>\n",
       "    <tr>\n",
       "      <th>212516</th>\n",
       "      <td>0.636802</td>\n",
       "      <td>-0.307295</td>\n",
       "      <td>-1.298443</td>\n",
       "      <td>1.948100</td>\n",
       "      <td>-4.509947</td>\n",
       "      <td>1.305805</td>\n",
       "      <td>-0.019486</td>\n",
       "      <td>-0.509238</td>\n",
       "      <td>-2.643398</td>\n",
       "      <td>1.283545</td>\n",
       "      <td>...</td>\n",
       "      <td>0.250415</td>\n",
       "      <td>1.178032</td>\n",
       "      <td>1.360989</td>\n",
       "      <td>-0.272013</td>\n",
       "      <td>-0.325948</td>\n",
       "      <td>0.290703</td>\n",
       "      <td>0.841295</td>\n",
       "      <td>0.643094</td>\n",
       "      <td>0.201156</td>\n",
       "      <td>1</td>\n",
       "    </tr>\n",
       "    <tr>\n",
       "      <th>212644</th>\n",
       "      <td>0.637366</td>\n",
       "      <td>9.864589</td>\n",
       "      <td>-2.356348</td>\n",
       "      <td>1.746360</td>\n",
       "      <td>-6.374624</td>\n",
       "      <td>1.772205</td>\n",
       "      <td>-3.439294</td>\n",
       "      <td>1.457811</td>\n",
       "      <td>-0.362577</td>\n",
       "      <td>1.443791</td>\n",
       "      <td>...</td>\n",
       "      <td>0.194810</td>\n",
       "      <td>0.857942</td>\n",
       "      <td>0.621203</td>\n",
       "      <td>0.964817</td>\n",
       "      <td>-0.619437</td>\n",
       "      <td>-1.732613</td>\n",
       "      <td>0.108361</td>\n",
       "      <td>1.130828</td>\n",
       "      <td>0.415703</td>\n",
       "      <td>1</td>\n",
       "    </tr>\n",
       "    <tr>\n",
       "      <th>213092</th>\n",
       "      <td>0.639304</td>\n",
       "      <td>0.006568</td>\n",
       "      <td>-4.666500</td>\n",
       "      <td>-3.952320</td>\n",
       "      <td>0.206094</td>\n",
       "      <td>5.153525</td>\n",
       "      <td>5.229469</td>\n",
       "      <td>0.939040</td>\n",
       "      <td>-0.635033</td>\n",
       "      <td>-0.704506</td>\n",
       "      <td>...</td>\n",
       "      <td>-2.286137</td>\n",
       "      <td>-0.664263</td>\n",
       "      <td>1.821422</td>\n",
       "      <td>0.113563</td>\n",
       "      <td>-0.759673</td>\n",
       "      <td>-0.502304</td>\n",
       "      <td>0.630639</td>\n",
       "      <td>-0.513880</td>\n",
       "      <td>0.729526</td>\n",
       "      <td>1</td>\n",
       "    </tr>\n",
       "    <tr>\n",
       "      <th>213116</th>\n",
       "      <td>0.639422</td>\n",
       "      <td>-0.191448</td>\n",
       "      <td>-3.975939</td>\n",
       "      <td>-1.244939</td>\n",
       "      <td>-3.707414</td>\n",
       "      <td>4.544772</td>\n",
       "      <td>4.050676</td>\n",
       "      <td>-3.407679</td>\n",
       "      <td>-5.063118</td>\n",
       "      <td>1.007042</td>\n",
       "      <td>...</td>\n",
       "      <td>2.109403</td>\n",
       "      <td>1.059737</td>\n",
       "      <td>-0.037395</td>\n",
       "      <td>0.348707</td>\n",
       "      <td>-0.162929</td>\n",
       "      <td>0.410531</td>\n",
       "      <td>-0.123612</td>\n",
       "      <td>0.877424</td>\n",
       "      <td>0.667568</td>\n",
       "      <td>1</td>\n",
       "    </tr>\n",
       "    <tr>\n",
       "      <th>214662</th>\n",
       "      <td>0.647058</td>\n",
       "      <td>1.377026</td>\n",
       "      <td>0.467992</td>\n",
       "      <td>1.100118</td>\n",
       "      <td>-5.607145</td>\n",
       "      <td>2.204714</td>\n",
       "      <td>-0.578539</td>\n",
       "      <td>-0.174200</td>\n",
       "      <td>-3.454201</td>\n",
       "      <td>1.102823</td>\n",
       "      <td>...</td>\n",
       "      <td>0.589575</td>\n",
       "      <td>0.983481</td>\n",
       "      <td>0.899876</td>\n",
       "      <td>-0.285103</td>\n",
       "      <td>-1.929717</td>\n",
       "      <td>0.319869</td>\n",
       "      <td>0.170636</td>\n",
       "      <td>0.851798</td>\n",
       "      <td>0.372098</td>\n",
       "      <td>1</td>\n",
       "    </tr>\n",
       "  </tbody>\n",
       "</table>\n",
       "<p>5 rows × 31 columns</p>\n",
       "</div>"
      ],
      "text/plain": [
       "        scaled_time  scaled_amount        V1        V2        V3        V4  \\\n",
       "212516     0.636802      -0.307295 -1.298443  1.948100 -4.509947  1.305805   \n",
       "212644     0.637366       9.864589 -2.356348  1.746360 -6.374624  1.772205   \n",
       "213092     0.639304       0.006568 -4.666500 -3.952320  0.206094  5.153525   \n",
       "213116     0.639422      -0.191448 -3.975939 -1.244939 -3.707414  4.544772   \n",
       "214662     0.647058       1.377026  0.467992  1.100118 -5.607145  2.204714   \n",
       "\n",
       "              V5        V6        V7        V8  ...         V20       V21  \\\n",
       "212516 -0.019486 -0.509238 -2.643398  1.283545  ...    0.250415  1.178032   \n",
       "212644 -3.439294  1.457811 -0.362577  1.443791  ...    0.194810  0.857942   \n",
       "213092  5.229469  0.939040 -0.635033 -0.704506  ...   -2.286137 -0.664263   \n",
       "213116  4.050676 -3.407679 -5.063118  1.007042  ...    2.109403  1.059737   \n",
       "214662 -0.578539 -0.174200 -3.454201  1.102823  ...    0.589575  0.983481   \n",
       "\n",
       "             V22       V23       V24       V25       V26       V27       V28  \\\n",
       "212516  1.360989 -0.272013 -0.325948  0.290703  0.841295  0.643094  0.201156   \n",
       "212644  0.621203  0.964817 -0.619437 -1.732613  0.108361  1.130828  0.415703   \n",
       "213092  1.821422  0.113563 -0.759673 -0.502304  0.630639 -0.513880  0.729526   \n",
       "213116 -0.037395  0.348707 -0.162929  0.410531 -0.123612  0.877424  0.667568   \n",
       "214662  0.899876 -0.285103 -1.929717  0.319869  0.170636  0.851798  0.372098   \n",
       "\n",
       "        Class  \n",
       "212516      1  \n",
       "212644      1  \n",
       "213092      1  \n",
       "213116      1  \n",
       "214662      1  \n",
       "\n",
       "[5 rows x 31 columns]"
      ]
     },
     "execution_count": 39,
     "metadata": {},
     "output_type": "execute_result"
    }
   ],
   "source": [
    "credit_card_1_5.head()"
   ]
  },
  {
   "cell_type": "code",
   "execution_count": 40,
   "metadata": {},
   "outputs": [],
   "source": [
    "# Dropping less important features\n",
    "drop_features = ['V1','V2','V5','V6','V8','V13','V15','V19','V20','V21','V22','V23','V24','V25','V26','V27','V28']\n",
    "test_df.drop(drop_features, axis =1, inplace = True)"
   ]
  },
  {
   "cell_type": "code",
   "execution_count": 41,
   "metadata": {},
   "outputs": [],
   "source": [
    "test_y = test_df['Class']"
   ]
  },
  {
   "cell_type": "code",
   "execution_count": 42,
   "metadata": {},
   "outputs": [],
   "source": [
    "test_df.drop(labels = [\"Class\"], axis = 1, inplace = True)"
   ]
  },
  {
   "cell_type": "code",
   "execution_count": 43,
   "metadata": {},
   "outputs": [],
   "source": [
    "p_test_df = multivariateGaussian(test_df,mu,sigma)"
   ]
  },
  {
   "cell_type": "code",
   "execution_count": 44,
   "metadata": {},
   "outputs": [
    {
     "name": "stdout",
     "output_type": "stream",
     "text": [
      "PREDICTIONS ON ORIGINAL TEST SET\n",
      "\n",
      "F1 score , Recall and Precision for Test dataset\n",
      "Best F1 Score 0.596330\n",
      "Best Recall Score 0.663265\n",
      "Best Precision Score 0.541667\n"
     ]
    }
   ],
   "source": [
    "print(\"PREDICTIONS ON ORIGINAL TEST SET\\n\")\n",
    "predictions = (p_test_df < ep)\n",
    "Recall = recall_score(test_y, predictions, average = \"binary\")    \n",
    "Precision = precision_score(test_y, predictions, average = \"binary\")\n",
    "F1score = f1_score(test_y, predictions, average = \"binary\")    \n",
    "print ('F1 score , Recall and Precision for Test dataset')\n",
    "print ('Best F1 Score %f' %F1score)\n",
    "print ('Best Recall Score %f' %Recall)\n",
    "print ('Best Precision Score %f' %Precision)"
   ]
  },
  {
   "cell_type": "code",
   "execution_count": 45,
   "metadata": {},
   "outputs": [
    {
     "data": {
      "image/png": "[encoded data removed]",
      "text/plain": [
       "<Figure size 720x720 with 1 Axes>"
      ]
     },
     "metadata": {
      "needs_background": "light"
     },
     "output_type": "display_data"
    }
   ],
   "source": [
    "fig, ax = plt.subplots(figsize=(10, 10))\n",
    "ax.scatter(test_df['V14'],test_df['V11'],marker=\"o\", color=\"lightBlue\")\n",
    "ax.set_title('Anomalies(in red) vs Predicted Anomalies(in Green)')\n",
    "for i, txt in enumerate(test_df['V14'].index):\n",
    "       if test_y.loc[txt] == 1 :\n",
    "            ax.annotate('*', (test_df['V14'].loc[txt],test_df['V11'].loc[txt]),fontsize=13,color='Red')\n",
    "       if predictions[i] == True :\n",
    "            ax.annotate('o', (test_df['V14'].loc[txt],test_df['V11'].loc[txt]),fontsize=15,color='Green')"
   ]
  },
  {
   "cell_type": "code",
   "execution_count": 53,
   "metadata": {},
   "outputs": [
    {
     "name": "stdout",
     "output_type": "stream",
     "text": [
      "[[56806    55]\n",
      " [   33    65]]\n",
      "Accuracy for Gaussian Anomaly Detection:  99.84550290559876\n",
      "              precision    recall  f1-score   support\n",
      "\n",
      "           0       1.00      1.00      1.00     56861\n",
      "           1       0.54      0.66      0.60        98\n",
      "\n",
      "   micro avg       1.00      1.00      1.00     56959\n",
      "   macro avg       0.77      0.83      0.80     56959\n",
      "weighted avg       1.00      1.00      1.00     56959\n",
      "\n",
      "Total number of Transactions classified as Fraudulent:  120\n",
      "Number of Fraudulent Transactions classified as Non-fraudulent:  33 out of 98\n"
     ]
    },
    {
     "data": {
      "text/plain": [
       "<matplotlib.axes._subplots.AxesSubplot at 0x15c28752668>"
      ]
     },
     "execution_count": 53,
     "metadata": {},
     "output_type": "execute_result"
    },
    {
     "data": {
      "image/png": "[encoded data removed]",
      "text/plain": [
       "<Figure size 720x504 with 2 Axes>"
      ]
     },
     "metadata": {
      "needs_background": "light"
     },
     "output_type": "display_data"
    }
   ],
   "source": [
    "import seaborn as sn\n",
    "mat = confusion_matrix(test_y,predictions)\n",
    "print(mat)\n",
    "print(\"Accuracy for Gaussian Anomaly Detection: \", accuracy_score(test_y,predictions)*100)\n",
    "print(classification_report(test_y,predictions))\n",
    "print(\"Total number of Transactions classified as Fraudulent: \", mat[1][1]+mat[0][1])\n",
    "print(\"Number of Fraudulent Transactions classified as Non-fraudulent: \", mat[1][0], \"out of 98\")\n",
    "df_cm = pd.DataFrame(confusion_matrix(test_y,predictions), index = [i for i in ['Non-Fraudulent','Fraudulent']],\n",
    "                  columns = [i for i in ['Non-Fraudulent','Fraudulent']])\n",
    "plt.figure(figsize = (10,7))\n",
    "plt.title(\"Gaussian Anomaly Detection\")\n",
    "sn.heatmap(df_cm, annot=True)\n"
   ]
  },
  {
   "cell_type": "code",
   "execution_count": 47,
   "metadata": {},
   "outputs": [
    {
     "data": {
      "image/png": "[encoded data removed]",
      "text/plain": [
       "<Figure size 432x288 with 1 Axes>"
      ]
     },
     "metadata": {
      "needs_background": "light"
     },
     "output_type": "display_data"
    }
   ],
   "source": [
    "from sklearn.metrics import roc_curve\n",
    "\n",
    "fpr, tpr, thresholds = roc_curve(test_y, predictions)\n",
    "plt.plot([0, 1], [0, 1], linestyle='--')\n",
    "# plot the roc curve for the model\n",
    "plt.plot(fpr, tpr)\n",
    "plt.xlabel('False Positive Rate')\n",
    "plt.ylabel('True Positive Rate')\n",
    "name = 'ROC curve for Anomaly Detection'"
   ]
  },
  {
   "cell_type": "markdown",
   "metadata": {},
   "source": [
    "# CLASSIFICATION MODELS"
   ]
  },
  {
   "cell_type": "code",
   "execution_count": 11,
   "metadata": {},
   "outputs": [
    {
     "data": {
      "text/html": [
       "<div>\n",
       "<style scoped>\n",
       "    .dataframe tbody tr th:only-of-type {\n",
       "        vertical-align: middle;\n",
       "    }\n",
       "\n",
       "    .dataframe tbody tr th {\n",
       "        vertical-align: top;\n",
       "    }\n",
       "\n",
       "    .dataframe thead th {\n",
       "        text-align: right;\n",
       "    }\n",
       "</style>\n",
       "<table border=\"1\" class=\"dataframe\">\n",
       "  <thead>\n",
       "    <tr style=\"text-align: right;\">\n",
       "      <th></th>\n",
       "      <th>scaled_time</th>\n",
       "      <th>scaled_amount</th>\n",
       "      <th>V1</th>\n",
       "      <th>V2</th>\n",
       "      <th>V3</th>\n",
       "      <th>V4</th>\n",
       "      <th>V5</th>\n",
       "      <th>V6</th>\n",
       "      <th>V7</th>\n",
       "      <th>V8</th>\n",
       "      <th>...</th>\n",
       "      <th>V20</th>\n",
       "      <th>V21</th>\n",
       "      <th>V22</th>\n",
       "      <th>V23</th>\n",
       "      <th>V24</th>\n",
       "      <th>V25</th>\n",
       "      <th>V26</th>\n",
       "      <th>V27</th>\n",
       "      <th>V28</th>\n",
       "      <th>Class</th>\n",
       "    </tr>\n",
       "  </thead>\n",
       "  <tbody>\n",
       "    <tr>\n",
       "      <th>139151</th>\n",
       "      <td>-0.019385</td>\n",
       "      <td>2.349637</td>\n",
       "      <td>0.883691</td>\n",
       "      <td>-0.736146</td>\n",
       "      <td>0.362030</td>\n",
       "      <td>0.571842</td>\n",
       "      <td>-0.779511</td>\n",
       "      <td>-0.097417</td>\n",
       "      <td>-0.118177</td>\n",
       "      <td>-0.022538</td>\n",
       "      <td>...</td>\n",
       "      <td>-0.157180</td>\n",
       "      <td>-0.329685</td>\n",
       "      <td>-0.876800</td>\n",
       "      <td>0.009588</td>\n",
       "      <td>0.180015</td>\n",
       "      <td>0.164188</td>\n",
       "      <td>-0.568062</td>\n",
       "      <td>0.025457</td>\n",
       "      <td>0.053713</td>\n",
       "      <td>0</td>\n",
       "    </tr>\n",
       "    <tr>\n",
       "      <th>30314</th>\n",
       "      <td>-0.573619</td>\n",
       "      <td>-0.201090</td>\n",
       "      <td>-2.044489</td>\n",
       "      <td>3.368306</td>\n",
       "      <td>-3.937111</td>\n",
       "      <td>5.623120</td>\n",
       "      <td>-3.079232</td>\n",
       "      <td>-1.253474</td>\n",
       "      <td>-5.778880</td>\n",
       "      <td>1.707428</td>\n",
       "      <td>...</td>\n",
       "      <td>1.112028</td>\n",
       "      <td>1.483594</td>\n",
       "      <td>0.834311</td>\n",
       "      <td>-0.148486</td>\n",
       "      <td>0.001669</td>\n",
       "      <td>-0.038996</td>\n",
       "      <td>0.389526</td>\n",
       "      <td>1.300236</td>\n",
       "      <td>0.549940</td>\n",
       "      <td>1</td>\n",
       "    </tr>\n",
       "    <tr>\n",
       "      <th>128476</th>\n",
       "      <td>-0.070091</td>\n",
       "      <td>0.531023</td>\n",
       "      <td>-4.312479</td>\n",
       "      <td>1.886476</td>\n",
       "      <td>-2.338634</td>\n",
       "      <td>-0.475243</td>\n",
       "      <td>-1.185444</td>\n",
       "      <td>-2.112079</td>\n",
       "      <td>-2.122793</td>\n",
       "      <td>0.272565</td>\n",
       "      <td>...</td>\n",
       "      <td>-0.718706</td>\n",
       "      <td>0.550541</td>\n",
       "      <td>-0.067870</td>\n",
       "      <td>-1.114692</td>\n",
       "      <td>0.269069</td>\n",
       "      <td>-0.020572</td>\n",
       "      <td>-0.963489</td>\n",
       "      <td>-0.918888</td>\n",
       "      <td>0.001454</td>\n",
       "      <td>1</td>\n",
       "    </tr>\n",
       "    <tr>\n",
       "      <th>150663</th>\n",
       "      <td>0.107722</td>\n",
       "      <td>0.782560</td>\n",
       "      <td>-10.850282</td>\n",
       "      <td>6.727466</td>\n",
       "      <td>-16.760583</td>\n",
       "      <td>8.425832</td>\n",
       "      <td>-10.252697</td>\n",
       "      <td>-4.192171</td>\n",
       "      <td>-14.077086</td>\n",
       "      <td>7.168288</td>\n",
       "      <td>...</td>\n",
       "      <td>-0.646818</td>\n",
       "      <td>2.541637</td>\n",
       "      <td>0.135535</td>\n",
       "      <td>-1.023967</td>\n",
       "      <td>0.406265</td>\n",
       "      <td>0.106593</td>\n",
       "      <td>-0.026232</td>\n",
       "      <td>-1.464630</td>\n",
       "      <td>-0.411682</td>\n",
       "      <td>1</td>\n",
       "    </tr>\n",
       "    <tr>\n",
       "      <th>44270</th>\n",
       "      <td>-0.503081</td>\n",
       "      <td>-0.293460</td>\n",
       "      <td>-20.906908</td>\n",
       "      <td>9.843153</td>\n",
       "      <td>-19.947726</td>\n",
       "      <td>6.155789</td>\n",
       "      <td>-15.142013</td>\n",
       "      <td>-2.239566</td>\n",
       "      <td>-21.234463</td>\n",
       "      <td>1.151795</td>\n",
       "      <td>...</td>\n",
       "      <td>0.396655</td>\n",
       "      <td>-1.977196</td>\n",
       "      <td>0.652932</td>\n",
       "      <td>-0.519777</td>\n",
       "      <td>0.541702</td>\n",
       "      <td>-0.053861</td>\n",
       "      <td>0.112671</td>\n",
       "      <td>-3.765371</td>\n",
       "      <td>-1.071238</td>\n",
       "      <td>1</td>\n",
       "    </tr>\n",
       "  </tbody>\n",
       "</table>\n",
       "<p>5 rows × 31 columns</p>\n",
       "</div>"
      ],
      "text/plain": [
       "        scaled_time  scaled_amount         V1        V2         V3        V4  \\\n",
       "139151    -0.019385       2.349637   0.883691 -0.736146   0.362030  0.571842   \n",
       "30314     -0.573619      -0.201090  -2.044489  3.368306  -3.937111  5.623120   \n",
       "128476    -0.070091       0.531023  -4.312479  1.886476  -2.338634 -0.475243   \n",
       "150663     0.107722       0.782560 -10.850282  6.727466 -16.760583  8.425832   \n",
       "44270     -0.503081      -0.293460 -20.906908  9.843153 -19.947726  6.155789   \n",
       "\n",
       "               V5        V6         V7        V8  ...       V20       V21  \\\n",
       "139151  -0.779511 -0.097417  -0.118177 -0.022538  ... -0.157180 -0.329685   \n",
       "30314   -3.079232 -1.253474  -5.778880  1.707428  ...  1.112028  1.483594   \n",
       "128476  -1.185444 -2.112079  -2.122793  0.272565  ... -0.718706  0.550541   \n",
       "150663 -10.252697 -4.192171 -14.077086  7.168288  ... -0.646818  2.541637   \n",
       "44270  -15.142013 -2.239566 -21.234463  1.151795  ...  0.396655 -1.977196   \n",
       "\n",
       "             V22       V23       V24       V25       V26       V27       V28  \\\n",
       "139151 -0.876800  0.009588  0.180015  0.164188 -0.568062  0.025457  0.053713   \n",
       "30314   0.834311 -0.148486  0.001669 -0.038996  0.389526  1.300236  0.549940   \n",
       "128476 -0.067870 -1.114692  0.269069 -0.020572 -0.963489 -0.918888  0.001454   \n",
       "150663  0.135535 -1.023967  0.406265  0.106593 -0.026232 -1.464630 -0.411682   \n",
       "44270   0.652932 -0.519777  0.541702 -0.053861  0.112671 -3.765371 -1.071238   \n",
       "\n",
       "        Class  \n",
       "139151      0  \n",
       "30314       1  \n",
       "128476      1  \n",
       "150663      1  \n",
       "44270       1  \n",
       "\n",
       "[5 rows x 31 columns]"
      ]
     },
     "execution_count": 11,
     "metadata": {},
     "output_type": "execute_result"
    }
   ],
   "source": [
    "df = pd.read_csv('credit_card_4_5.csv')\n",
    "df = df.sample(frac=1)\n",
    "df = df.drop(df.columns[0], axis=1)\n",
    "\n",
    "# amount of fraud classes 492 rows.\n",
    "fraud_df = df.loc[df['Class'] == 1][:393]\n",
    "non_fraud_df = df.loc[df['Class'] == 0][:393]\n",
    "\n",
    "normal_distributed_df = pd.concat([fraud_df, non_fraud_df])\n",
    "\n",
    "# Shuffle dataframe rows\n",
    "new_df = normal_distributed_df.sample(frac=1, random_state=42)\n",
    "# new_df.to_csv('new_data_4_5_shuffled.csv')\n",
    "new_df.head()"
   ]
  },
  {
   "cell_type": "code",
   "execution_count": 14,
   "metadata": {},
   "outputs": [],
   "source": [
    "# Undersampling before cross validating (prone to overfit)\n",
    "y_train = new_df['Class']\n",
    "X_train = new_df.drop('Class', axis=1)\n",
    "\n",
    "dftest = pd.read_csv('credit_card_1_5.csv')\n",
    "dftest = dftest.drop(df.columns[0], axis=1)\n",
    "\n",
    "y_test = dftest['Class']\n",
    "X_test = dftest.drop('Class',axis=1)\n",
    "# Turn the values into an array for feeding the classification algorithms.\n",
    "X_train = X_train.values\n",
    "X_test = X_test.values\n",
    "y_train = y_train.values\n",
    "y_test = y_test.values"
   ]
  },
  {
   "cell_type": "code",
   "execution_count": 32,
   "metadata": {},
   "outputs": [],
   "source": [
    "\n",
    "from sklearn.model_selection import cross_val_score\n",
    "from sklearn.linear_model import LogisticRegression\n",
    "from sklearn.svm import SVC\n",
    "from sklearn.neighbors import KNeighborsClassifier\n",
    "from sklearn.tree import DecisionTreeClassifier\n",
    "from sklearn.ensemble import RandomForestClassifier\n",
    "import collections\n",
    "from sklearn.model_selection import train_test_split\n",
    "from sklearn.pipeline import make_pipeline\n",
    "# from imblearn.pipeline import make_pipeline as imbalanced_make_pipeline\n",
    "# from imblearn.over_sampling import SMOTE\n",
    "# from imblearn.under_sampling import NearMiss\n",
    "# from imblearn.metrics import classification_report_imbalanced\n",
    "from sklearn.metrics import precision_score, recall_score, f1_score, roc_auc_score, accuracy_score, classification_report\n",
    "from collections import Counter\n",
    "from sklearn.model_selection import KFold, StratifiedKFold\n",
    "import warnings\n",
    "warnings.filterwarnings(\"ignore\")"
   ]
  },
  {
   "cell_type": "code",
   "execution_count": 33,
   "metadata": {},
   "outputs": [
    {
     "name": "stdout",
     "output_type": "stream",
     "text": [
      "Classification Report of  LogisiticRegression :\n",
      "               precision    recall  f1-score   support\n",
      "\n",
      "           0       1.00      0.98      0.99     56861\n",
      "           1       0.08      0.87      0.14        98\n",
      "\n",
      "    accuracy                           0.98     56959\n",
      "   macro avg       0.54      0.92      0.57     56959\n",
      "weighted avg       1.00      0.98      0.99     56959\n",
      "\n",
      "Classifiers:  LogisticRegression Has a training score of 92.0 % accuracy score\n",
      "Classification Report of  KNearest :\n",
      "               precision    recall  f1-score   support\n",
      "\n",
      "           0       1.00      0.63      0.77     56861\n",
      "           1       0.00      0.64      0.01        98\n",
      "\n",
      "    accuracy                           0.63     56959\n",
      "   macro avg       0.50      0.63      0.39     56959\n",
      "weighted avg       1.00      0.63      0.77     56959\n",
      "\n",
      "Classifiers:  KNeighborsClassifier Has a training score of 63.0 % accuracy score\n",
      "Classification Report of  Support Vector Classifier :\n",
      "               precision    recall  f1-score   support\n",
      "\n",
      "           0       1.00      1.00      1.00     56861\n",
      "           1       0.14      0.17      0.15        98\n",
      "\n",
      "    accuracy                           1.00     56959\n",
      "   macro avg       0.57      0.59      0.58     56959\n",
      "weighted avg       1.00      1.00      1.00     56959\n",
      "\n",
      "Classifiers:  SVC Has a training score of 56.00000000000001 % accuracy score\n"
     ]
    },
    {
     "data": {
      "image/png": "[encoded data removed]",
      "text/plain": [
       "<Figure size 720x504 with 2 Axes>"
      ]
     },
     "metadata": {
      "needs_background": "light"
     },
     "output_type": "display_data"
    },
    {
     "data": {
      "image/png": "[encoded data removed]",
      "text/plain": [
       "<Figure size 720x504 with 2 Axes>"
      ]
     },
     "metadata": {
      "needs_background": "light"
     },
     "output_type": "display_data"
    },
    {
     "data": {
      "image/png": "[encoded data removed]",
      "text/plain": [
       "<Figure size 720x504 with 2 Axes>"
      ]
     },
     "metadata": {
      "needs_background": "light"
     },
     "output_type": "display_data"
    }
   ],
   "source": [
    "\n",
    "# Let's implement simple classifiers\n",
    "\n",
    "classifiers = {\n",
    "    \"LogisiticRegression\": LogisticRegression(),\n",
    "    \"KNearest\": KNeighborsClassifier(),\n",
    "    \"Support Vector Classifier\": SVC()\n",
    "}\n",
    "from sklearn.model_selection import cross_val_score\n",
    "from sklearn.metrics import confusion_matrix\n",
    "import pandas as pd\n",
    "import matplotlib.pyplot as plt\n",
    "#Let's see how our model performed\n",
    "from sklearn.metrics import classification_report\n",
    "classrep = []\n",
    "confusionmatrices = {}\n",
    "predicts = {}\n",
    "for key, classifier in classifiers.items():\n",
    "    classifier.fit(X_train, y_train)\n",
    "    predictions = classifier.predict(X_test)\n",
    "    print('Classification Report of ',key,':\\n',classification_report(y_test, predictions))\n",
    "    predicts[key] = predictions\n",
    "    classrep.append(classification_report(y_test, predictions));\n",
    "    confusionmatrices[key] = confusion_matrix(y_test,predictions);\n",
    "    df_cm = pd.DataFrame(confusion_matrix(y_test,predictions), index = [i for i in ['Non-Fraudulent','Fraudulent']],\n",
    "                  columns = [i for i in ['Non-Fraudulent','Fraudulent']])\n",
    "    plt.figure(figsize = (10,7))\n",
    "    plt.title(key)\n",
    "    sn.heatmap(df_cm, annot=True)\n",
    "    name = key + 'Confusion Matrix'\n",
    "    plt.savefig(name)\n",
    "#     print('The cofusion matrix for',key,':\\n',confusion_matrix(y_test,predictions),'\\n')\n",
    "    training_score = cross_val_score(classifier, X_train, y_train, cv=5)\n",
    "    print(\"Classifiers: \", classifier.__class__.__name__, \"Has a training score of\", round(training_score.mean(), 2) * 100, \"% accuracy score\")"
   ]
  },
  {
   "cell_type": "code",
   "execution_count": 34,
   "metadata": {},
   "outputs": [],
   "source": [
    "# Let's Plot LogisticRegression Learning Curve\n",
    "from sklearn.model_selection import ShuffleSplit\n",
    "from sklearn.model_selection import learning_curve\n",
    "\n",
    "def plot_learning_curve(estimator1, estimator2, estimator3, estimator4, X, y, ylim=None, cv=None,\n",
    "                        n_jobs=1, train_sizes=np.linspace(.1, 1.0, 5)):\n",
    "    f, ((ax1, ax2), (ax3, ax4)) = plt.subplots(2,2, figsize=(20,14), sharey=True)\n",
    "    if ylim is not None:\n",
    "        plt.ylim(*ylim)\n",
    "    # First Estimator\n",
    "    train_sizes, train_scores, test_scores = learning_curve(\n",
    "        estimator1, X, y, cv=cv, n_jobs=n_jobs, train_sizes=train_sizes)\n",
    "    train_scores_mean = np.mean(train_scores, axis=1)\n",
    "    train_scores_std = np.std(train_scores, axis=1)\n",
    "    test_scores_mean = np.mean(test_scores, axis=1)\n",
    "    test_scores_std = np.std(test_scores, axis=1)\n",
    "    ax1.fill_between(train_sizes, train_scores_mean - train_scores_std,\n",
    "                     train_scores_mean + train_scores_std, alpha=0.1,\n",
    "                     color=\"#ff9124\")\n",
    "    ax1.fill_between(train_sizes, test_scores_mean - test_scores_std,\n",
    "                     test_scores_mean + test_scores_std, alpha=0.1, color=\"#2492ff\")\n",
    "    ax1.plot(train_sizes, train_scores_mean, 'o-', color=\"#ff9124\",\n",
    "             label=\"Training score\")\n",
    "    ax1.plot(train_sizes, test_scores_mean, 'o-', color=\"#2492ff\",\n",
    "             label=\"Cross-validation score\")\n",
    "    ax1.set_title(\"Logistic Regression Learning Curve\", fontsize=14)\n",
    "    ax1.set_xlabel('Training size (m)')\n",
    "    ax1.set_ylabel('Score')\n",
    "    ax1.grid(True)\n",
    "    ax1.legend(loc=\"best\")\n",
    "    \n",
    "    # Second Estimator \n",
    "    train_sizes, train_scores, test_scores = learning_curve(\n",
    "        estimator2, X, y, cv=cv, n_jobs=n_jobs, train_sizes=train_sizes)\n",
    "    train_scores_mean = np.mean(train_scores, axis=1)\n",
    "    train_scores_std = np.std(train_scores, axis=1)\n",
    "    test_scores_mean = np.mean(test_scores, axis=1)\n",
    "    test_scores_std = np.std(test_scores, axis=1)\n",
    "    ax2.fill_between(train_sizes, train_scores_mean - train_scores_std,\n",
    "                     train_scores_mean + train_scores_std, alpha=0.1,\n",
    "                     color=\"#ff9124\")\n",
    "    ax2.fill_between(train_sizes, test_scores_mean - test_scores_std,\n",
    "                     test_scores_mean + test_scores_std, alpha=0.1, color=\"#2492ff\")\n",
    "    ax2.plot(train_sizes, train_scores_mean, 'o-', color=\"#ff9124\",\n",
    "             label=\"Training score\")\n",
    "    ax2.plot(train_sizes, test_scores_mean, 'o-', color=\"#2492ff\",\n",
    "             label=\"Cross-validation score\")\n",
    "    ax2.set_title(\"Knears Neighbors Learning Curve\", fontsize=14)\n",
    "    ax2.set_xlabel('Training size (m)')\n",
    "    ax2.set_ylabel('Score')\n",
    "    ax2.grid(True)\n",
    "    ax2.legend(loc=\"best\")\n",
    "    \n",
    "    # Third Estimator\n",
    "    train_sizes, train_scores, test_scores = learning_curve(\n",
    "        estimator3, X, y, cv=cv, n_jobs=n_jobs, train_sizes=train_sizes)\n",
    "    train_scores_mean = np.mean(train_scores, axis=1)\n",
    "    train_scores_std = np.std(train_scores, axis=1)\n",
    "    test_scores_mean = np.mean(test_scores, axis=1)\n",
    "    test_scores_std = np.std(test_scores, axis=1)\n",
    "    ax3.fill_between(train_sizes, train_scores_mean - train_scores_std,\n",
    "                     train_scores_mean + train_scores_std, alpha=0.1,\n",
    "                     color=\"#ff9124\")\n",
    "    ax3.fill_between(train_sizes, test_scores_mean - test_scores_std,\n",
    "                     test_scores_mean + test_scores_std, alpha=0.1, color=\"#2492ff\")\n",
    "    ax3.plot(train_sizes, train_scores_mean, 'o-', color=\"#ff9124\",\n",
    "             label=\"Training score\")\n",
    "    ax3.plot(train_sizes, test_scores_mean, 'o-', color=\"#2492ff\",\n",
    "             label=\"Cross-validation score\")\n",
    "    ax3.set_title(\"Support Vector Classifier \\n Learning Curve\", fontsize=14)\n",
    "    ax3.set_xlabel('Training size (m)')\n",
    "    ax3.set_ylabel('Score')\n",
    "    ax3.grid(True)\n",
    "    ax3.legend(loc=\"best\")\n",
    "    \n",
    "    return plt"
   ]
  },
  {
   "cell_type": "code",
   "execution_count": 35,
   "metadata": {},
   "outputs": [
    {
     "data": {
      "text/plain": [
       "<module 'matplotlib.pyplot' from '/Users/nimishagarwal/anaconda3/envs/Data-Science-with-Python/lib/python3.6/site-packages/matplotlib/pyplot.py'>"
      ]
     },
     "execution_count": 35,
     "metadata": {},
     "output_type": "execute_result"
    },
    {
     "data": {
      "image/png": "[encoded data removed]",
      "text/plain": [
       "<Figure size 1440x1008 with 4 Axes>"
      ]
     },
     "metadata": {
      "needs_background": "light"
     },
     "output_type": "display_data"
    }
   ],
   "source": [
    "cv = ShuffleSplit(n_splits=100, test_size=0.2, random_state=42)\n",
    "plot_learning_curve(LogisticRegression(),SVC(), DecisionTreeClassifier(),  KNeighborsClassifier(),X_train, y_train, (0.87, 1.01), cv=cv, n_jobs=4)"
   ]
  },
  {
   "cell_type": "code",
   "execution_count": 39,
   "metadata": {},
   "outputs": [
    {
     "data": {
      "image/png": "[encoded data removed]",
      "text/plain": [
       "<Figure size 432x288 with 1 Axes>"
      ]
     },
     "metadata": {
      "needs_background": "light"
     },
     "output_type": "display_data"
    }
   ],
   "source": [
    "from sklearn.metrics import roc_curve\n",
    "from matplotlib import pyplot\n",
    "colour={\"LogisiticRegression\": 'r-',\n",
    "    \"KNearest\": 'b-',\n",
    "    \"Support Vector Classifier\": 'g-',\n",
    "       \"isolation forest\" : 'y-'}\n",
    "predicts[\"isolation forest\"] = y_pred_iso\n",
    "classifiers[\"isolation forest\"] = clf\n",
    "for key, classifier in classifiers.items():\n",
    "    fpr, tpr, thresholds = roc_curve(y_test, predicts[key])\n",
    "    pyplot.plot([0, 1], [0, 1], linestyle='--')\n",
    "    # plot the roc curve for the model\n",
    "    pyplot.plot(fpr, tpr,colour[key],label=key)\n",
    "    pyplot.xlabel('False Positive Rate')\n",
    "    pyplot.ylabel('True Positive Rate')\n",
    "    name = 'ROC curve for '+key\n",
    "    \n",
    "#     pyplot.title(name)"
   ]
  },
  {
   "cell_type": "markdown",
   "metadata": {},
   "source": [
    "Red: Logistic Regression\n",
    "\n",
    "Yellow: Isolation Forest\n",
    "\n",
    "Blue: KNN\n",
    "\n",
    "Green: SVC"
   ]
  },
  {
   "cell_type": "markdown",
   "metadata": {},
   "source": [
    "# Conclusion:\n",
    "    "
   ]
  },
  {
   "cell_type": "markdown",
   "metadata": {},
   "source": [
    "Among all algorithms, **Logistic Regression** has the **highest percentage of correctly identified transactions**, while **Gaussian Anomaly Detection** had the **highest accuracy**."
   ]
  },
  {
   "cell_type": "markdown",
   "metadata": {},
   "source": [
    "**Logistic Regression** classified 85 out of 98 fraudulent transactions correctly, with **92%** accuracy overall."
   ]
  },
  {
   "cell_type": "markdown",
   "metadata": {},
   "source": [
    "Only **5%** of the **fraud transactions** were missed by Logistic Regression."
   ]
  },
  {
   "cell_type": "markdown",
   "metadata": {},
   "source": [
    "Number of non-fraudulent transactions classified as non-fraudulent: approx 1000."
   ]
  },
  {
   "cell_type": "markdown",
   "metadata": {},
   "source": [
    "Total Number of Transactions needed to be verified: approx 1100 in 10 hours"
   ]
  },
  {
   "cell_type": "markdown",
   "metadata": {},
   "source": [
    "Assuming that one employee would need 10 minutes for manually verifying whether a transaction is actually fraud or not, he/she can verify 60 transactions in 10 hours. "
   ]
  },
  {
   "cell_type": "markdown",
   "metadata": {},
   "source": [
    "Practically, the bank needs to have a team of 40 dedicated individuals, who would work in 2 shifts, if Logistic Regression is used."
   ]
  },
  {
   "cell_type": "markdown",
   "metadata": {},
   "source": [
    "If **Gaussian Anomaly Detection** is used, only 120 transactions need to be manually verified in 10 hours, with **99.84% accuracy** which would need a team of 4 dedicated individuals only."
   ]
  },
  {
   "cell_type": "markdown",
   "metadata": {},
   "source": [
    "But **33%** of the **fraud transactions** were missed by this method."
   ]
  },
  {
   "cell_type": "code",
   "execution_count": null,
   "metadata": {},
   "outputs": [],
   "source": []
  }
 ],
 "metadata": {
  "kernelspec": {
   "display_name": "Python 3",
   "language": "python",
   "name": "python3"
  },
  "language_info": {
   "codemirror_mode": {
    "name": "ipython",
    "version": 3
   },
   "file_extension": ".py",
   "mimetype": "text/x-python",
   "name": "python",
   "nbconvert_exporter": "python",
   "pygments_lexer": "ipython3",
   "version": "3.7.1"
  }
 },
 "nbformat": 4,
 "nbformat_minor": 2
}
